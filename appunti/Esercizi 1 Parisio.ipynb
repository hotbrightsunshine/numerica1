{
 "cells": [
  {
   "cell_type": "markdown",
   "id": "dfd0bf35-cb0e-4155-85ae-fb5fffac5e67",
   "metadata": {},
   "source": [
    "# Esercizio 1\n",
    "\n",
    "Creare una lista con i quadrati da 3 a 15. Estrarne poi la sottolista dei quaadrati dei numeri pari. "
   ]
  },
  {
   "cell_type": "code",
   "execution_count": 12,
   "id": "a761cf77-f671-4b9b-82c9-d9284b0894bd",
   "metadata": {},
   "outputs": [
    {
     "name": "stdout",
     "output_type": "stream",
     "text": [
      "[9, 16, 25, 36, 49, 64, 81, 100, 121, 144, 169, 196, 225]   [16, 36, 64, 100, 144, 196]\n"
     ]
    }
   ],
   "source": [
    "xs = [ x**2 for x in range(3, 15+1) ]\n",
    "\n",
    "ys = [ y for y in xs if y % 2 == 0 ]\n",
    "\n",
    "print(xs, \" \", ys)"
   ]
  },
  {
   "cell_type": "markdown",
   "id": "af6841db-aebe-45ac-aed7-f9e318e95da8",
   "metadata": {},
   "source": [
    "# Esercizio 2\n",
    "\n",
    "Scrivere una funzione che calcoli il fattoriale di un numero."
   ]
  },
  {
   "cell_type": "code",
   "execution_count": 31,
   "id": "acad4bc1-a956-4ada-9306-a3d0c4f08f4d",
   "metadata": {},
   "outputs": [
    {
     "name": "stdout",
     "output_type": "stream",
     "text": [
      "120\n"
     ]
    }
   ],
   "source": [
    "def fact(n):\n",
    "    \"\"\"\n",
    "    Recursively calculate the factorial of a number. \n",
    "    \"\"\"\n",
    "    assert type(n) == int and n >= 0, \"Wrong type, n must be a positive integer\"\n",
    "    if n == 0: \n",
    "        return 1\n",
    "    return n * fact(n - 1)\n",
    "\n",
    "print(fact(5))"
   ]
  },
  {
   "cell_type": "markdown",
   "id": "9441f75b-65b7-4da2-b628-b2728628ca43",
   "metadata": {},
   "source": [
    "# Esercizio 3\n",
    "\n",
    "Scrivere una funzione che calcoli i primi $n$ termini della successione di Collatz a partire da un dato numero iniziale. La successione è definita, a partire da $a_0 = x_0$, come\n",
    "$$\n",
    "a_n := \\left\\{\\begin{array}{ll}\n",
    "\\displaystyle\\frac{a_{n - 1}}{2} & \\text{$a_{n - 1}$ è pari}\\\\\\\\\n",
    "3a_{n - 1} + 1 & \\text{se $a_{n - 1}$ è dispari.}\n",
    "\\end{array}\\right.\n",
    "$$\n",
    "Qualora $a_k = 1$ per $k < n$ ci fermiamo all'indice $k$ anziché $n$.\n",
    "\n",
    "Scrivere una seconda funzione in cui non si da $n$ e ci si ferma se e quando $a_k = 1$.\n",
    "\n",
    "Esempio: per $x_0 = 6$ abbiamo $\\{a_n\\}_n = \\{6, 3, 10, 5, 16, 8, 4, 2, 1\\}$."
   ]
  },
  {
   "cell_type": "code",
   "execution_count": 43,
   "id": "a143f53e-7fb5-4687-929f-c88a1c66d2ad",
   "metadata": {},
   "outputs": [
    {
     "name": "stdout",
     "output_type": "stream",
     "text": [
      "[1000, 500, 250, 125, 376, 188, 94, 47, 142, 71, 214, 107, 322, 161, 484, 242, 121, 364, 182, 91, 274, 137, 412, 206, 103, 310, 155, 466, 233, 700, 350, 175, 526, 263, 790, 395, 1186, 593, 1780, 890, 445, 1336, 668, 334, 167, 502, 251, 754, 377, 1132, 566, 283, 850, 425, 1276, 638, 319, 958, 479, 1438, 719, 2158, 1079, 3238, 1619, 4858, 2429, 7288, 3644, 1822, 911, 2734, 1367, 4102, 2051, 6154, 3077, 9232, 4616, 2308, 1154, 577, 1732, 866, 433, 1300, 650, 325, 976, 488, 244, 122, 61, 184, 92, 46, 23, 70, 35, 106, 53, 160, 80, 40, 20, 10, 5, 16, 8, 4, 2, 1]\n"
     ]
    }
   ],
   "source": [
    "def collatz(x, n): \n",
    "    \"\"\"\n",
    "    Calculates the first n terms of the Collatz sequence. \n",
    "\n",
    "    INPUT: \n",
    "    - x : int\n",
    "        Starting point of the Collatz sequence, positive integer. \n",
    "    - n : int \n",
    "        #Evaluations \n",
    "\n",
    "    OUTPUT: \n",
    "        A list contaning #n terms of the Collatz sequence, starting from n. \n",
    "    \"\"\"\n",
    "    assert type(n) == int and n > 0, \"collatz(x, n): n must be a strictly positive integer\"\n",
    "    assert type(x) == int and x > 0, \"collatz(x, n): x must be a strictly positive integer\"\n",
    "\n",
    "    acc = []\n",
    "    t = x\n",
    "    \n",
    "    while n >= 0: \n",
    "        acc[:] += [t]\n",
    "        \n",
    "        if t == 1: \n",
    "            break\n",
    "        n -= 1\n",
    "        t = _next_collatz(t)\n",
    "\n",
    "    return acc\n",
    "\n",
    "def collatz_unsafe(x): \n",
    "    \"\"\"\n",
    "    Calculates the Collatz sequence until 1 is reached. \n",
    "\n",
    "    It is known that for any sufficiently small integer, the Collatz sequence gets in the {1, 4, 2, 1} loop once 1 is eventually reached.\n",
    "    It has not been proven that the sequence converges for any positive integer yet, however practical experience tells us so.\n",
    "\n",
    "    INPUT: \n",
    "    - x : int\n",
    "        Positive integer of which Collatz sequence is computed\n",
    "    OUTPUT: \n",
    "        Indefinetely large list of integers that records each calculation of the Collatz sequence, given x.\n",
    "    \"\"\"\n",
    "    assert type(x) == int and x >= 1, \"collatz_unsafe(x): must be a strictly positive integer\" \n",
    "    if x == 1: \n",
    "        return [1]\n",
    "    else: \n",
    "        return [x] + collatz_unsafe(_next_collatz(x))\n",
    "                   \n",
    "def _next_collatz(x): \n",
    "    \"\"\"\n",
    "    Calculates the next Collatz term of x.\n",
    "    \"\"\"\n",
    "    assert type(x) == int and x >= 1, \"_next_collatz(x): x must be a strictly positive integer\"\n",
    "    if x % 2 == 0: \n",
    "        return int(x / 2)\n",
    "    else: \n",
    "        return 3 * x + 1\n",
    "\n",
    "print(collatz_unsafe(1000))"
   ]
  },
  {
   "cell_type": "markdown",
   "id": "8272370c-1736-4545-844c-717b4c558407",
   "metadata": {},
   "source": [
    "# Esercizio 4\n",
    "Scrivere un codice che generi tutte le frasi con soggetto in `['I', 'you']` verbo in `['play', 'love']` e oggetto in `['football', 'tennis']`."
   ]
  },
  {
   "cell_type": "code",
   "execution_count": 62,
   "id": "36e1b149-be61-4343-b755-3c55408e5c74",
   "metadata": {},
   "outputs": [],
   "source": [
    "lists = {\"subj\": [\"I\", \"you\"], \"verb\": [\"play\", \"love\"], \"obj\": [\"football\", \"tennis\"]}\n",
    "\n",
    "res = [ f\"{subj} {verb} {obj}\" \n",
    "    for subj in lists[\"subj\"] \n",
    "    for verb in lists[\"verb\"] \n",
    "    for obj in lists[\"obj\"] ]"
   ]
  },
  {
   "cell_type": "markdown",
   "id": "6fb0d62b-22a0-4862-bc77-2095bafaef83",
   "metadata": {},
   "source": [
    "# Esercizio 5\n",
    "\n",
    "Scrivere una funzione che restituisca tutti gli elementi con indice pari di una lista, \n",
    "\n",
    "esempio: da [2, 5, 7, 9, 11, 17, 222] $\\to$ [2, 7, 11, 222]\n",
    "\n",
    "Scrivere un'altra funzione che restituisca tutti gli elementi di una lista tranne il primo e l'ultimo e in ordine inverso, \n",
    "\n",
    "esempio: [2, 5, 7, 9, 11, 17, 222] $\\to$ [17, 11, 9, 7, 5]"
   ]
  },
  {
   "cell_type": "code",
   "execution_count": 111,
   "id": "42f46cf9-119f-4508-ae51-99cc33d681df",
   "metadata": {},
   "outputs": [
    {
     "name": "stdout",
     "output_type": "stream",
     "text": [
      "Even items, first method: \t [1, 3, 5, 7]\n",
      "Even items, second method: \t [1, 3, 5, 7]\n",
      "Body + reverse, first method: \t [7, 6, 5, 4, 3, 2]\n",
      "Body + reverse, second method: \t [7, 6, 5, 4, 3, 2]\n"
     ]
    }
   ],
   "source": [
    "def even_items(lst):\n",
    "    \"\"\"\n",
    "    Returns the element of a list with even index\n",
    "    \"\"\"\n",
    "    return [lst[i] for i in range(0, len(lst)) if i % 2 == 0]\n",
    "\n",
    "#Alternatively...\n",
    "def even_items1(lst):\n",
    "    return lst[::2]\n",
    "\n",
    "# First method\n",
    "def body(lst):\n",
    "    \"\"\"\n",
    "    Returns the \"body\" of the list (i.e. the list without the first and the last element.\n",
    "\n",
    "    INPUT: \n",
    "    - lst : list\n",
    "\n",
    "    OUTPUT: \n",
    "    The list without the first and last element. \n",
    "    \"\"\"\n",
    "    if len(lst) <= 2:\n",
    "        return []\n",
    "    else:\n",
    "        return [lst[i] for i in range(1, len(lst)-1)]\n",
    "\n",
    "def body_reverse(lst):\n",
    "    k = body(lst[:]) #.reverse() over lists mutates the argument\n",
    "    k.reverse()\n",
    "    return k\n",
    "\n",
    "# Second method (with slicing)\n",
    "def body_reverse1(lst):\n",
    "    k = lst[1:len(lst)-1]\n",
    "    k.reverse()\n",
    "    return k\n",
    "\n",
    "tmp = [1, 2, 3, 4, 5, 6, 7, 8]\n",
    "\n",
    "print(\"Even items, first method: \\t\", even_items(tmp))\n",
    "print(\"Even items, second method: \\t\", even_items1(tmp))\n",
    "print(\"Body + reverse, first method: \\t\", body_reverse(tmp))\n",
    "print(\"Body + reverse, second method: \\t\", body_reverse1(tmp))"
   ]
  },
  {
   "cell_type": "markdown",
   "id": "af8d2000-5ad9-4e22-b8a7-bbe631c19f33",
   "metadata": {},
   "source": [
    "# Esercizio 6\n",
    "\n",
    "Approssimiamo il numero $\\pi$ tramite la formula di Wallis\n",
    "$$\n",
    "\\pi = 2\\prod_{i = 1}^\\infty \\frac{4i^2}{4i^2 - 1}.\n",
    "$$"
   ]
  },
  {
   "cell_type": "code",
   "execution_count": 138,
   "id": "c8a9fcb8-71ab-4524-8de2-120dd35d68f8",
   "metadata": {},
   "outputs": [
    {
     "data": {
      "text/plain": [
       "3.1415141108281714"
      ]
     },
     "execution_count": 138,
     "metadata": {},
     "output_type": "execute_result"
    }
   ],
   "source": [
    "def wallis_pi(n):\n",
    "    \"\"\"\n",
    "    Appriximates PI using the Wallis formula. Stops after #n interations. \n",
    "    \"\"\"\n",
    "    assert type(n) == int and n >= 0, \"wallis_pi(n): n must be a strictly positive integer.\"\n",
    "\n",
    "    acc = 2\n",
    "    for i in range(1, n):\n",
    "        acc *= (4 * (i ** 2)) / (4 * (i ** 2) - 1)\n",
    "    return acc;\n",
    "\n",
    "wallis_pi(10000)"
   ]
  },
  {
   "cell_type": "markdown",
   "id": "55696467-d117-4fff-9ca7-1fdc3aa74c94",
   "metadata": {},
   "source": [
    "# Esercizio 7\n",
    "\n",
    "Scrivere una funzione che trova gli indici degli elementi non-zero in una lista."
   ]
  },
  {
   "cell_type": "code",
   "execution_count": 149,
   "id": "baecabde-1b76-455a-9d28-96a3f787248a",
   "metadata": {},
   "outputs": [
    {
     "name": "stdout",
     "output_type": "stream",
     "text": [
      "[0, 1, 2, 5, 7, 9, 11]\n"
     ]
    }
   ],
   "source": [
    "tmp = [1, 2, 3, 0, 0, 1, 0, 3, 0, 2, 0, 1]\n",
    "\n",
    "def non_zero(lst):\n",
    "    \"\"\"\n",
    "    Returns a list of indexes i of which the i-th item of lst is non zero (meaning that it is True according to Python)\n",
    "    \"\"\"\n",
    "    return [ i for i in range(0, len(lst)) if lst[i] ]\n",
    "\n",
    "print(non_zero(tmp))"
   ]
  },
  {
   "cell_type": "markdown",
   "id": "54fae815-17ed-43fa-b2a6-e119d91c43e7",
   "metadata": {},
   "source": [
    "# Esercizio 8\n",
    "Scrivere una funzione che crea una matrice (lista di liste) di dimensione $n \\times m$ con $n, m \\in \\mathbb{N}$ il cui generico elemento $(i, j)$ sia $i \\cdot j$. Ad esempio, per $n = 3$, $m = 5$, abbiamo\n",
    "$$\n",
    "\\begin{bmatrix}\n",
    "0 & 0 & 0 & 0 & 0\\\\\n",
    "0 & 1 & 2 & 3 & 4\\\\\n",
    "0 & 2 & 4 & 6 & 8\n",
    "\\end{bmatrix}\n",
    "$$"
   ]
  },
  {
   "cell_type": "code",
   "execution_count": 222,
   "id": "d0bf5593-9587-41b6-b598-d57be503bd07",
   "metadata": {},
   "outputs": [
    {
     "name": "stdout",
     "output_type": "stream",
     "text": [
      "0\t0\t0\t0\t0\t\n",
      "0\t1\t2\t3\t4\t\n",
      "0\t2\t4\t6\t8\t\n"
     ]
    }
   ],
   "source": [
    "def mult_matrix(n, m):\n",
    "    return [ [i*j for j in range(0, m) ] for i in range(0, n) ]\n",
    "\n",
    "tmp = mult_matrix(3, 5)\n",
    "\n",
    "for row in tmp:\n",
    "    for cell in row: \n",
    "        print(cell, end = \"\\t\")\n",
    "    print()"
   ]
  },
  {
   "cell_type": "markdown",
   "id": "feac63a2-ee21-4a65-8117-1d2451b21e1f",
   "metadata": {},
   "source": [
    "# Esercizio 9\n",
    "\n",
    "Scrivere una funzione che prende in input una lista di parole e restituisce una lista delle parole distinte (rimuovendo le ripetizioni) e ordinandole alfabeticamente. \n",
    "\n",
    "Suggerimento: la funzione  `sorted` converte l'argomento in una lista ordinata.\n",
    "\n",
    "Scrivere una funzione che prende in input una stringa anziché una lista e fa la stessa cosa, con output una stringa però.\n",
    "\n",
    "Suggerimento: usate i metodi delle stringhe `split` e `join` (se serve aiuto ricordate la funzione `help`).\n",
    "\n",
    "Esempio: 'hello world and practice makes perfect and hello world again' diventa 'again and hello makes perfect practice world'"
   ]
  },
  {
   "cell_type": "code",
   "execution_count": 215,
   "id": "85e0777f-0880-4c80-a67d-bdfb5be28f27",
   "metadata": {},
   "outputs": [
    {
     "name": "stdout",
     "output_type": "stream",
     "text": [
      "['aiao', 'ciao']\n",
      "again and hello makes perfect practice world\n"
     ]
    }
   ],
   "source": [
    "def distinct_and_order(lst):\n",
    "    s = set(lst)\n",
    "    return sorted(s)\n",
    "\n",
    "def distinct_and_order_str(str):\n",
    "    str = str.split(\" \")\n",
    "    str = distinct_and_order(str)\n",
    "    return \" \".join(str)\n",
    "    \n",
    "\n",
    "print(distinct_and_order([\"ciao\", \"ciao\", \"aiao\"]))\n",
    "print(distinct_and_order_str(\"hello world and practice makes perfect and hello world again\"))"
   ]
  },
  {
   "cell_type": "markdown",
   "id": "901ed4f6-9a3a-4496-b5d2-2608b46ab9f0",
   "metadata": {},
   "source": [
    "# Esercizio 10\n",
    "\n",
    "Un robot si può muovere nel piano partendo dall'origine (0, 0). Si muove nelle direzioni UP, DOWN, LEFT e RIGHT e per un certo numero di passi. Scrivere una funzione che calcola la distanza al quadrato dall'origine (non abbiamo ancora visto la radice quadrata, per questo al quadrato) della sua posizione dopo una certa lista di movimenti.\n",
    "\n",
    "Suggerimento: indicare ogni movimento nella lista, come una lista o una tupla del tipo `('DIRECTION', steps)`.\n",
    "\n",
    "Esempio: `[('UP', 5), ('DOWN', 3), ('LEFT', 3), ('RIGHT', 2)]` dovrebbe fornire una distanza al quadrato di 5."
   ]
  },
  {
   "cell_type": "code",
   "execution_count": 4,
   "id": "888781ce-fcb3-4adf-ab62-43e0a2c02208",
   "metadata": {},
   "outputs": [
    {
     "data": {
      "text/plain": [
       "5"
      ]
     },
     "execution_count": 4,
     "metadata": {},
     "output_type": "execute_result"
    }
   ],
   "source": [
    "def bot_dist(arr):\n",
    "    \"\"\"\n",
    "    Calculates the covered distance by the robot\n",
    "    \"\"\"\n",
    "    pos = {\"x\": 0, \"y\": 0 } # Initial position\n",
    "    for (dir, step) in arr:\n",
    "        if dir == \"UP\":\n",
    "            pos[\"x\"] += step\n",
    "        elif dir == \"DOWN\":\n",
    "            pos[\"x\"] -= step\n",
    "        elif dir == \"LEFT\":\n",
    "            pos[\"y\"] -= step\n",
    "        elif dir == \"RIGHT\":\n",
    "            pos[\"y\"] += step\n",
    "    return pos[\"x\"] ** 2 + pos[\"y\"] ** 2\n",
    "\n",
    "bot_dist([('UP', 5), ('DOWN', 3), ('LEFT', 3), ('RIGHT', 2)])"
   ]
  },
  {
   "cell_type": "markdown",
   "id": "d730a0f8-b64b-4cb7-a6a8-f74be97af769",
   "metadata": {},
   "source": [
    "# Esercizio 11\n",
    "Calcolare i primi $n = 100$ termini della successione\n",
    "$$\n",
    "x_n =\\left(\\sum_{i = 1}^n i\\right)^2 - \\sum_{i=1}^n i^2.\n",
    "$$\n",
    "Suggerimento: usare la funzione `sum`."
   ]
  },
  {
   "cell_type": "code",
   "execution_count": 48,
   "id": "a8e73bc1-67b2-4a12-89ed-771053d42ed6",
   "metadata": {},
   "outputs": [
    {
     "name": "stdout",
     "output_type": "stream",
     "text": [
      "0 4 22 70 170 350 644 1092 1740 2640 3850 5434 7462 10010 13160 17000 21624 27132 33630 41230 50050 60214 71852 85100 100100 117000 135954 157122 180670 206770 235600 267344 302192 340340 381990 427350 476634 530062 587860 650260 717500 789824 867482 950730 1039830 1135050 1236664 1344952 1460200 1582700 1712750 1850654 1996722 2151270 2314620 2487100 2669044 2860792 3062690 3275090 3498350 3732834 3978912 4236960 4507360 4790500 5086774 5396582 5720330 6058430 6411300 6779364 7163052 7562800 7979050 8412250 8862854 9331322 9818120 10323720 10848600 11393244 11958142 12543790 13150690 13779350 14430284 15104012 15801060 16521960 17267250 18037474 18833182 19654930 20503280 21378800 22282064 23213652 24174150 25164150 "
     ]
    }
   ],
   "source": [
    "def eval_nth(n: int):\n",
    "    \"\"\"\n",
    "    Returns the nth element of the x_n sequence\n",
    "    \"\"\"\n",
    "    add1 = sum(range(0, n+1)) ** 2\n",
    "    add2 = sum([i**2 for i in range(0, n+1)])\n",
    "    \n",
    "    return add1 - add2\n",
    "\n",
    "def eval(n):\n",
    "    \"\"\"\n",
    "    Returns the list containing all the terms of the x_n sequence up to the nth element. \n",
    "    \"\"\"\n",
    "    acc = []\n",
    "    for m in range(1, n+1):\n",
    "        acc.append(eval_nth(m))\n",
    "    return acc\n",
    "\n",
    "for i in eval(100):\n",
    "    print(i, end=\" \")"
   ]
  },
  {
   "cell_type": "markdown",
   "id": "e95810b6-b25b-4a6b-a630-548011b6e398",
   "metadata": {},
   "source": [
    "# Esercizio 12\n",
    "Sappiamo che $2^{15} = 32768$ e la somma delle sue cifre è $3 + 2 + 7 + 6 + 8 = 26$. Qual'è la somma delle cifre di $2^{1000}$?\n",
    "\n",
    "Suggerimento: un intero può essere convertito in una stringa con `str`."
   ]
  },
  {
   "cell_type": "code",
   "execution_count": 88,
   "id": "e6b6db24-15ff-45cc-9841-32cf7524cf11",
   "metadata": {},
   "outputs": [
    {
     "data": {
      "text/plain": [
       "1366"
      ]
     },
     "execution_count": 88,
     "metadata": {},
     "output_type": "execute_result"
    }
   ],
   "source": [
    "import functools as f\n",
    "import operator as operator\n",
    "\n",
    "def sum_digits(n: int):\n",
    "    return f.reduce(operator.add, map(int, str(n)), 0)\n",
    "\n",
    "sum_digits(2**1000)"
   ]
  }
 ],
 "metadata": {
  "kernelspec": {
   "display_name": "Python 3 (ipykernel)",
   "language": "python",
   "name": "python3"
  },
  "language_info": {
   "codemirror_mode": {
    "name": "ipython",
    "version": 3
   },
   "file_extension": ".py",
   "mimetype": "text/x-python",
   "name": "python",
   "nbconvert_exporter": "python",
   "pygments_lexer": "ipython3",
   "version": "3.12.4"
  }
 },
 "nbformat": 4,
 "nbformat_minor": 5
}
