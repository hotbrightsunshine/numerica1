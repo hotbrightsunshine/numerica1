{
 "cells": [
  {
   "cell_type": "markdown",
   "id": "b915ae3f-3bf8-48d2-a860-71f3c17934b2",
   "metadata": {},
   "source": [
    "# Esercizi di Analisi Numerica I, seconda scheda"
   ]
  },
  {
   "cell_type": "code",
   "execution_count": 3,
   "id": "0265a25b-44c5-49a8-9b03-013dc22a079b",
   "metadata": {},
   "outputs": [],
   "source": [
    "import numpy as np\n",
    "\n",
    "import matplotlib.pyplot as plt"
   ]
  },
  {
   "cell_type": "markdown",
   "id": "f8dd8cd3-0ad8-475a-9a23-62e0af03c07a",
   "metadata": {},
   "source": [
    "## Esercizio 1"
   ]
  },
  {
   "cell_type": "code",
   "execution_count": 2,
   "id": "395920e1-a93e-4709-a94e-3acf4a148030",
   "metadata": {},
   "outputs": [
    {
     "data": {
      "text/plain": [
       "array([[1., 0., 1., 0.],\n",
       "       [0., 1., 0., 1.],\n",
       "       [1., 0., 1., 0.],\n",
       "       [0., 1., 0., 1.]])"
      ]
     },
     "execution_count": 2,
     "metadata": {},
     "output_type": "execute_result"
    }
   ],
   "source": [
    "def chess_mat(size: (int, int)):\n",
    "    \"\"\"\n",
    "    Returns a \"chess\" like matrix made of 0s and 1s. \n",
    "    \"\"\"\n",
    "    A = np.ones(size)\n",
    "    A[::2, 1::2] = 0\n",
    "    A[1::2, ::2] = 0\n",
    "    return A\n",
    "\n",
    "chess_mat((4, 4))"
   ]
  },
  {
   "cell_type": "code",
   "execution_count": 3,
   "id": "0d906d0f-9f7d-4bab-93c9-925c794937b2",
   "metadata": {},
   "outputs": [
    {
     "data": {
      "text/plain": [
       "array([[ 1,  2,  3,  4,  5,  6],\n",
       "       [ 7,  8,  9, 10, 11, 12],\n",
       "       [13, 14, 15, 16, 17, 18],\n",
       "       [19, 20, 21, 22, 23, 24],\n",
       "       [25, 26, 27, 28, 29, 30]])"
      ]
     },
     "execution_count": 3,
     "metadata": {},
     "output_type": "execute_result"
    }
   ],
   "source": [
    "def mult_mat(size: (int, int)):\n",
    "    \"\"\"\n",
    "    Returns a arange reshaped to a matrix containing integer entries from 1 to rows*columns ordered by rows.\n",
    "    \"\"\"\n",
    "    (r, c) = size\n",
    "    return np.arange(1, r*c+1).reshape(size)\n",
    "\n",
    "mult_mat((5, 6))"
   ]
  },
  {
   "cell_type": "code",
   "execution_count": 5,
   "id": "0483ef0f-648d-42c6-beff-763cda9bbb85",
   "metadata": {},
   "outputs": [
    {
     "data": {
      "text/plain": [
       "array([[ 1.,  0.,  0.,  0.,  0.,  0.,  0.,  0.,  0.,  1.],\n",
       "       [ 0.,  2.,  0.,  0.,  0.,  0.,  0.,  0.,  2.,  0.],\n",
       "       [ 0.,  0.,  3.,  0.,  0.,  0.,  0.,  3.,  0.,  0.],\n",
       "       [ 0.,  0.,  0.,  4.,  0.,  0.,  4.,  0.,  0.,  0.],\n",
       "       [ 0.,  0.,  0.,  0.,  5.,  5.,  0.,  0.,  0.,  0.],\n",
       "       [ 0.,  0.,  0.,  0.,  6.,  6.,  0.,  0.,  0.,  0.],\n",
       "       [ 0.,  0.,  0.,  7.,  0.,  0.,  7.,  0.,  0.,  0.],\n",
       "       [ 0.,  0.,  8.,  0.,  0.,  0.,  0.,  8.,  0.,  0.],\n",
       "       [ 0.,  9.,  0.,  0.,  0.,  0.,  0.,  0.,  9.,  0.],\n",
       "       [10.,  0.,  0.,  0.,  0.,  0.,  0.,  0.,  0., 10.]])"
      ]
     },
     "execution_count": 5,
     "metadata": {},
     "output_type": "execute_result"
    }
   ],
   "source": [
    "def diag_anti_square(size: int):\n",
    "    \"\"\"\n",
    "    Returns a square matrix with ranged value from 1 to size in both the diagonal and anti-diagonal of the matrix.  \n",
    "    \"\"\"\n",
    "    D = np.zeros((size, size))\n",
    "    L = np.arange(size) # Vector to place in the diagonal/anti-diagonal\n",
    "    D[L, L] = L + 1 # Diagonal\n",
    "    D[L, -(L+1)] = L + 1 # Antidiagonal \n",
    "    return D\n",
    "\n",
    "diag_anti_square(10)"
   ]
  },
  {
   "cell_type": "markdown",
   "id": "ecaa765a-1033-438f-95f7-271196bd83a4",
   "metadata": {},
   "source": [
    "## Esercizio 2\n",
    "\n",
    "Scrivere le seguenti funzioni (vietato l'uso dei for):\n",
    "\n",
    "- funzione che restituisce l'elemento di un array 1D più vicino ad un dato scalare\n",
    "- funzione che inserisce 3 zeri consecutivi tra gli elementi di un array 1D\n",
    "- funzione che scambia due righe in un array 2D"
   ]
  },
  {
   "cell_type": "code",
   "execution_count": null,
   "id": "a1d25fd5-c976-45ef-b48f-5fd4aee5b4c2",
   "metadata": {},
   "outputs": [
    {
     "data": {
      "text/plain": [
       "3"
      ]
     },
     "execution_count": 24,
     "metadata": {},
     "output_type": "execute_result"
    }
   ],
   "source": [
    "def nearest_index(arr: np.array, val: float): \n",
    "    \"\"\"\n",
    "    Returns the index of the \"nearest\" element of arr to val. \n",
    "    \"\"\"\n",
    "    tmp = np.abs(arr - val)\n",
    "    return tmp.argmin()\n",
    "\n",
    "nearest_index(np.array([1, 2, 3, 4, 5]), 4.1)"
   ]
  },
  {
   "cell_type": "code",
   "execution_count": 15,
   "id": "5140995f-feab-42c1-bd4b-5c7cf23fc1f9",
   "metadata": {},
   "outputs": [
    {
     "data": {
      "text/plain": [
       "array([1., 0., 0., 0., 2., 0., 0., 0., 3., 0., 0., 0.])"
      ]
     },
     "execution_count": 15,
     "metadata": {},
     "output_type": "execute_result"
    }
   ],
   "source": [
    "def insert3zero(arr: np.array):\n",
    "    \"\"\"\n",
    "    Inserts three zero after every each element of a 1D array. \n",
    "    \"\"\"\n",
    "    arr = np.reshape(arr, (arr.shape[0], 1)) \n",
    "    arr = np.concatenate((arr, np.zeros(( 3, arr.shape[0])) ), axis=1) #need not att a new dimension because I resized the tensor\n",
    "    arr = np.ravel(arr)\n",
    "    return arr\n",
    "\n",
    "\n",
    "def insert3zero1(arr: np.array):\n",
    "    tmp = np.zeros(len(arr)*4)\n",
    "    tmp[::4] = arr\n",
    "    return tmp\n",
    "\n",
    "insert3zero1(np.array([1, 2, 3]))"
   ]
  },
  {
   "cell_type": "code",
   "execution_count": 7,
   "id": "14490ff1-bd40-4361-b086-a0a7015c011f",
   "metadata": {},
   "outputs": [
    {
     "data": {
      "text/plain": [
       "array([[2, 2],\n",
       "       [1, 1]])"
      ]
     },
     "execution_count": 7,
     "metadata": {},
     "output_type": "execute_result"
    }
   ],
   "source": [
    "def swap_rows(M: np.array, k: int, l: int):\n",
    "    \"\"\"\n",
    "    Swap k and l roes of the M 2D matrix. \n",
    "    \"\"\"\n",
    "    M[[k, l], :] = M[[l, k], :]\n",
    "    return M\n",
    "\n",
    "swap_rows(np.array([[1, 1], [2, 2]]), 0, 1)"
   ]
  },
  {
   "cell_type": "markdown",
   "id": "30e040ca-d3ac-496b-86d4-c37167c098ab",
   "metadata": {},
   "source": [
    "## Esercizio 3\n",
    "Scrivere 2 funzioni, una usando le liste e una usando numpy, che prende in input una lista (array 1D rispettivamente) di lunghezza $N$ e calcola la lista (array) contenente i punti medi, cioè \n",
    "$$ y_i =  \\frac{x_i + x_{i+1}}{2} \\qquad \\forall\\, i < N$$\n",
    "Nella funzione che usa numpy è vietato l'uso dei for.\n",
    "Confrontare le performance con `%timeit`. Qual'è meglio? Di quanto?"
   ]
  },
  {
   "cell_type": "code",
   "execution_count": 18,
   "id": "e3a4bda0-9ea3-4f6d-8025-c86e1972d7e1",
   "metadata": {},
   "outputs": [
    {
     "name": "stdout",
     "output_type": "stream",
     "text": [
      "[0.5 1.5 2.5 3.5 4.5 5.5 6.5 7.5 8.5 4.5] [0.5 1.5 2.5 3.5 4.5 5.5 6.5 7.5 8.5 4.5]\n"
     ]
    }
   ],
   "source": [
    "def vec_avg(xs: np.array):\n",
    "    \"\"\"\n",
    "    Computes the avarage of every two consecutive points in a 1D vector. \n",
    "    The last element of the returned vector is the average of the last and first element. \n",
    "    \"\"\"\n",
    "    slc = (np.arange(0, xs.shape[0]) + 1) % xs.shape[0] #slice to shift vector 1 element\n",
    "    ys = np.array([xs[:], xs[ slc ]])\n",
    "    return np.sum(ys, axis=0) / 2\n",
    "\n",
    "def vec_avg1(xs: np.array):\n",
    "    \"\"\"\n",
    "    Alternative `vec_avg` that relies on np.roll instead of slices. \n",
    "    \"\"\"\n",
    "    return np.sum([xs[:], np.roll(xs[:], 1)], axis=0) / 2\n",
    "\n",
    "def vec_avg2(xs: np.array):\n",
    "    slc = (np.arange(0, xs.shape[0]) + 1) % xs.shape[0] #slice to shift vector 1 element\n",
    "    return (xs + xs[slc]) / 2\n",
    "\n",
    "def for_avg(xs: list):\n",
    "    \"\"\"\n",
    "    Imperative version of `vec_avg`. \n",
    "    \"\"\"\n",
    "    ys = []; ln = len(xs)\n",
    "    for i in range(ln):\n",
    "        ys.append( (xs[i] + xs[(i+1) % ln]) / 2 )\n",
    "    return ys\n",
    "\n",
    "arr = np.arange(10)\n",
    "print(vec_avg(arr), vec_avg2(arr))"
   ]
  },
  {
   "cell_type": "code",
   "execution_count": 9,
   "id": "c93e9638-f72b-4040-926c-d3c9f7de7c56",
   "metadata": {},
   "outputs": [
    {
     "name": "stdout",
     "output_type": "stream",
     "text": [
      "360 ms ± 1.96 ms per loop (mean ± std. dev. of 7 runs, 1 loop each)\n"
     ]
    }
   ],
   "source": [
    "xs = range(amount)\n",
    "%timeit for_avg(xs)"
   ]
  },
  {
   "cell_type": "code",
   "execution_count": 10,
   "id": "00937cfb-5dfb-4f38-9383-3575845e6417",
   "metadata": {},
   "outputs": [
    {
     "data": {
      "image/png": "[encoded data removed]",
      "text/plain": [
       "<Figure size 640x480 with 1 Axes>"
      ]
     },
     "metadata": {},
     "output_type": "display_data"
    }
   ],
   "source": [
    "# Here we collect computation time calculated by the %timeit feature in Jupyter notebook in function of array's length. \n",
    "# We then plot it using Matplotlib in a scatter/line plot. \n",
    "\n",
    "results = np.array([\n",
    "    [5,       18.1, 0.75 ],\n",
    "    [10,      18.1, 1.62 ],\n",
    "    [100,     21.4, 13.8 ],\n",
    "    [1000,    21.8, 172  ],\n",
    "    [10000,   45,   2180 ],\n",
    "    [100000,  270,  18000], \n",
    "    [1000000, 9070, 190000]\n",
    "]).transpose()\n",
    "\n",
    "plt.title(\"Performance comparison\")\n",
    "plt.plot(results[0], results[1], '-o', label=\"vec_avg1\")\n",
    "plt.plot(results[0], results[2], '-o', label=\"for_avg\")\n",
    "#plt.yscale('log'); \n",
    "plt.xscale('log');\n",
    "plt.xlabel('Array size')\n",
    "plt.ylabel('Computation time elapsed [microseconds]')\n",
    "plt.ticklabel_format(axis='y', style='sci', scilimits=(0,0))\n",
    "plt.legend()\n",
    "plt.show()"
   ]
  },
  {
   "cell_type": "markdown",
   "id": "af3a3048-ab7e-4391-be69-83768889a419",
   "metadata": {},
   "source": [
    "As expected, Numpy is way faster at computations over vectors. Here I show the divergence between computation times of the two different methods. "
   ]
  },
  {
   "cell_type": "code",
   "execution_count": 11,
   "id": "39ff059e-8785-4a55-8759-0c79dcd28595",
   "metadata": {},
   "outputs": [
    {
     "data": {
      "image/png": "[encoded data removed]",
      "text/plain": [
       "<Figure size 640x480 with 1 Axes>"
      ]
     },
     "metadata": {},
     "output_type": "display_data"
    }
   ],
   "source": [
    "diverg = [ results[0], abs(results[1]- results[2])]\n",
    "\n",
    "plt.title(\"Divergence \")\n",
    "plt.plot(diverg[0], diverg[1], '-o')\n",
    "#plt.yscale('log'); \n",
    "plt.xscale('log');\n",
    "plt.xlabel('Array size')\n",
    "plt.ylabel('Difference of time')\n",
    "plt.ticklabel_format(axis='y', style='sci', scilimits=(0,0))\n",
    "plt.show()"
   ]
  },
  {
   "cell_type": "markdown",
   "id": "b5dff4dd-79ce-4d76-8fcb-0fed11216297",
   "metadata": {},
   "source": [
    "## Esercizio 4\n",
    "\n",
    "Scrivere una funzione, senza l'uso dei cicli for, che dati dei punti materiali $\\pmb{x}^i = (x_1^i, x_2^i, x_3^i) \\in \\mathbb{R}^3$ di massa $m^i$, calcoli il centro di massa, cioè,\n",
    "$$\n",
    "\\bar{\\pmb{x}} := \\frac{1}{M}\\sum_{i=0}^N m^i\\pmb{x}^i \\qquad\\text{con } M := \\sum_{i=0}^N m^i.\n",
    "$$"
   ]
  },
  {
   "cell_type": "code",
   "execution_count": null,
   "id": "80bbafba-0d54-4b4b-875e-7fa741f5dc80",
   "metadata": {},
   "outputs": [
    {
     "name": "stdout",
     "output_type": "stream",
     "text": [
      "[[ 0  5  2  0]\n",
      " [ 0 10  2  2]\n",
      " [ 0  5  1  2]]\n"
     ]
    },
    {
     "data": {
      "text/plain": [
       "array([0.58333333, 1.16666667, 0.66666667])"
      ]
     },
     "execution_count": 12,
     "metadata": {},
     "output_type": "execute_result"
    }
   ],
   "source": [
    "def mass_center(pts: np.array, masses: np.array):\n",
    "    \"\"\"\n",
    "    Returns the mass center of N \"weighted\" vectors. \n",
    "    pts is the matrix of vectors, while masses is the vector of masses. \n",
    "    The number of columns must be the same as the number of masses. \n",
    "    \"\"\"\n",
    "\n",
    "    assert pts.shape[1] == masses.shape[0], \"pts' #columns != masses' length\"\n",
    "    M = np.sum(masses)\n",
    "    #print(pts * masses)\n",
    "    return np.sum( pts * masses, axis=1 ) / M\n",
    "\n",
    "pts = np.array([ [0, 0, 0], [1 ,2, 1], [2, 2, 1], [0, 1, 1] ]).transpose()\n",
    "masses = np.array([4, 5, 1, 2])\n",
    "\n",
    "mass_center(pts, masses)"
   ]
  }
 ],
 "metadata": {
  "kernelspec": {
   "display_name": "base",
   "language": "python",
   "name": "python3"
  },
  "language_info": {
   "codemirror_mode": {
    "name": "ipython",
    "version": 3
   },
   "file_extension": ".py",
   "mimetype": "text/x-python",
   "name": "python",
   "nbconvert_exporter": "python",
   "pygments_lexer": "ipython3",
   "version": "3.12.4"
  }
 },
 "nbformat": 4,
 "nbformat_minor": 5
}
