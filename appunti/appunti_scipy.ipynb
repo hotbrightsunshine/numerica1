{
 "cells": [
  {
   "cell_type": "markdown",
   "metadata": {
    "vscode": {
     "languageId": "plaintext"
    }
   },
   "source": [
    "# Scipy\n",
    "\n",
    "Scipy è una libreria che si occupa di interpolazione, ottimizzazione, algebra lineare, etc che contiene diversi metodi ottimizzati per il calcolo numerico."
   ]
  },
  {
   "cell_type": "code",
   "execution_count": 14,
   "metadata": {},
   "outputs": [
    {
     "data": {
      "text/plain": [
       "<matplotlib.legend.Legend at 0x7af520ffd8b0>"
      ]
     },
     "execution_count": 14,
     "metadata": {},
     "output_type": "execute_result"
    },
    {
     "data": {
      "image/png": "[encoded data removed]",
      "text/plain": [
       "<Figure size 300x300 with 1 Axes>"
      ]
     },
     "metadata": {},
     "output_type": "display_data"
    }
   ],
   "source": [
    "import scipy as sp\n",
    "\n",
    "# il modulo \"special\" contiene le funzioni speciali, cioè quelle che appaiono in fenomeni fisici (come le funzioni di Bessel e la funzione Gamma)\n",
    "import scipy.special as special\n",
    "import matplotlib.pyplot as plt \n",
    "\n",
    "import numpy as np \n",
    "\n",
    "x = np.linspace(0, 4, 5)\n",
    "y = np.cos(x**3 + np.sin(x * 3))\n",
    "\n",
    "t = np.linspace(0, 4, 100)\n",
    "\n",
    "from scipy import interpolate\n",
    "plt.figure(figsize=(3, 3))\n",
    "d = 1\n",
    "\n",
    "f = interpolate.interp1d(x, y, kind=\"quadratic\")\n",
    "\n",
    "plt.plot(t, f(t), \"-\", linewidth = 3)\n",
    "plt.plot(x, y, 'o', label=\"dati\")\n",
    "plt.legend(fontsize=20)\n",
    "\n"
   ]
  },
  {
   "cell_type": "markdown",
   "metadata": {},
   "source": [
    "Supponiamo che i dati siano affetti da rumore. Allora c'è bisogno di un quasi-interpolante che approssima al meglio il valore vero. "
   ]
  },
  {
   "cell_type": "code",
   "execution_count": null,
   "metadata": {},
   "outputs": [],
   "source": [
    "x = np.linspace(-3, 3, 50)\n",
    "r = 0.05 * np.random.randn(50)\n",
    "y = np.exp(-x**2) + r\n",
    "\n",
    "t = np.linspace(-3, 3, 100) #per il grafico\n",
    "plt.figure(figsize=(6, 3))\n",
    "\n",
    "for k  in range(3): \n",
    "    QI = interpolate.splrep(x, y, s = k/10) #s = smoothing in [0, 1) // più cresce più è liscia\n",
    "    QIval = interpolate.splev(t, QI)\n",
    "\n",
    "    plt.subplot(1, 3, k + 1)\n",
    "    plt.plot(x, y, 'o', label=\"dati\")\n",
    "    plt.plot(t, QIval, label=\"spline QI\")\n",
    "    plt.axis(\"off\")\n"
   ]
  },
  {
   "cell_type": "code",
   "execution_count": null,
   "metadata": {},
   "outputs": [],
   "source": [
    "# Minimo di una funzione (algoritmo di Brent)\n",
    "\n",
    "def f(x): \n",
    "    return x**2 + 10 * np.sin(x)\n",
    "\n",
    "mg=sp.optimize.minimize_scalar(f)\n",
    "\n",
    "m_1 = sp.optimize.minimize_scalar(f, bounds=(2, 7), method = \"bounded\")\n",
    "\n",
    "x = np.linspace(-10, 10, 100)\n",
    "plt.plot(x, f(x))\n"
   ]
  },
  {
   "cell_type": "code",
   "execution_count": null,
   "metadata": {},
   "outputs": [],
   "source": [
    "# Integrali (clenshaw-curtis =quad) (romberg=romb) (simpson=simps) (trapezi=trapz)\n",
    "\n",
    "res, err = sp.integrate.quad(np.sin, 1, 2)\n",
    "print(res)\n"
   ]
  },
  {
   "cell_type": "markdown",
   "metadata": {},
   "source": [
    "# Modulo di algebra lineare: `linalg`"
   ]
  },
  {
   "cell_type": "markdown",
   "metadata": {},
   "source": [
    "Sono definite le seguenti funzioni:\n",
    "- `linalg.det(A)`\n",
    "- `linalg.inv(A)`\n",
    "\n",
    "Ricordando la definzione di norma \n",
    "\n",
    "$$\n",
    "|x|_p = (\\sum^n_{i = 1} |x_i|^p)^{\\frac{1}{p}} \\\\\n",
    "|x|_\\infty = \\max _i |x_i|\n",
    "$$\n",
    "\n",
    "possiamo estendere la definizione anche per le matrici. "
   ]
  },
  {
   "cell_type": "markdown",
   "metadata": {},
   "source": [
    "$$\n",
    "|A|_\\infty = \\max _i \\sum _j |a_{i,j} | \\quad \\text{Norma sulle righe} \\\\\n",
    "|A|_1 = \\max _j \\sum _i |a_{i,j} | \\quad \\text{Norma sulle colonne}\\\\\n",
    "|A|_2 = \\sqrt{\\rho A^T A} \\quad \\rho = \\max _i \\lambda _i\n",
    "$$"
   ]
  },
  {
   "cell_type": "markdown",
   "metadata": {},
   "source": [
    "La norma viene calcolata con il comando\n",
    "```python\n",
    "linalg.norm(A, type=2)\n",
    "```"
   ]
  },
  {
   "cell_type": "markdown",
   "metadata": {},
   "source": [
    "Quando viene specificata l'asse nel comando della norma, il comando torna un vettore con le norme dei vettori che compongono la matrice (in riga, colonna, profondità, etc. ). Per `axis = 0` la norma viene eseguita sulle righe, mentre quando `axis = 1` il conto viene fatto sulle colonne."
   ]
  },
  {
   "cell_type": "markdown",
   "metadata": {},
   "source": [
    "## Decomposizioni di matrici\n",
    "\n",
    "- LU `linalg.lu()`, $ A = PLU $ con $P$ matrice di permutazione, $L$ triangolare inferiore, $U$ triangolare superiore. \n",
    "- Cholesky `linalg.cholesky()`$A = CC^T$ con $C$ triangolare inferiore\n",
    "- QR `linalg.qr()` $A = QR$ con $Q$ ortogonale e $R$ triangolare superiore. "
   ]
  },
  {
   "cell_type": "markdown",
   "metadata": {},
   "source": [
    "## Altre matrici speciali\n",
    "\n",
    "- Matrici diagonali a blocchi `linalg.block_diag(A, B, C, ...)`\n",
    "- Toeplitz - matrici ciascuna diagonale uguale `toeplitz(c, r=None)`\n",
    "- Hankel - costanti nelle antidiagonali (come Toeplitz ma al contrario) `hankel(r, c=None)`. "
   ]
  },
  {
   "cell_type": "code",
   "execution_count": 9,
   "metadata": {},
   "outputs": [
    {
     "name": "stdout",
     "output_type": "stream",
     "text": [
      "[[1 2 3]\n",
      " [2 1 2]\n",
      " [3 2 1]]\n"
     ]
    }
   ],
   "source": [
    "A = sp.linalg.toeplitz([1, 2, 3])\n",
    "print(A)"
   ]
  },
  {
   "cell_type": "markdown",
   "metadata": {},
   "source": [
    "## Risolvere sistemi lineari $Ax = b$\n",
    "```python\n",
    "x = linalg.solve(A, b)\n",
    "```\n",
    "Dobbiamo utilizzare metodi ottimizzati nel caso in cui sappiamo che $A$ soddisfi certe proprietà: \n",
    "- `assume_a = \"sym\"` - simmetrica\n",
    "- `assume_a = \"her\"` - hermitiana\n",
    "- `assume_a = \"pos\"` - definita positiva \n",
    "- `solve_triangular(A, b, lower=True|False)`- triangolari\n",
    "\n",
    "Esistono metodi apposta nel caso in cui $A$ sia \"a banda\"\n"
   ]
  },
  {
   "cell_type": "markdown",
   "metadata": {},
   "source": [
    "## Autovalori e autovettori"
   ]
  },
  {
   "cell_type": "markdown",
   "metadata": {},
   "source": [
    "- `w = linalg.eigvals(A)` e `linalg.eigvec(A)` ritornano rispettivamente il vettore di autovalori di A e una matrice di autovettori di A. \n",
    "- Quando $A$ è simmetrica (hermitiana), si usa il metodo `linalg.eigh(A)`. "
   ]
  }
 ],
 "metadata": {
  "kernelspec": {
   "display_name": "base",
   "language": "python",
   "name": "python3"
  },
  "language_info": {
   "codemirror_mode": {
    "name": "ipython",
    "version": 3
   },
   "file_extension": ".py",
   "mimetype": "text/x-python",
   "name": "python",
   "nbconvert_exporter": "python",
   "pygments_lexer": "ipython3",
   "version": "3.12.4"
  }
 },
 "nbformat": 4,
 "nbformat_minor": 2
}
