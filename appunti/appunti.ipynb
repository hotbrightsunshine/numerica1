{
 "cells": [
  {
   "cell_type": "markdown",
   "id": "e6c6ca05-5a73-4c4e-8be0-3e1e3ad53fde",
   "metadata": {},
   "source": [
    "# Lezione 1"
   ]
  },
  {
   "cell_type": "code",
   "execution_count": 16,
   "id": "a49c6eb9-1327-435d-8bb0-35b3caa2fcb8",
   "metadata": {},
   "outputs": [
    {
     "name": "stdout",
     "output_type": "stream",
     "text": [
      "Hello world\n"
     ]
    }
   ],
   "source": [
    "print('Hello world')"
   ]
  },
  {
   "cell_type": "code",
   "execution_count": 17,
   "id": "e107c8c6-467c-435d-b00f-7b665a366990",
   "metadata": {},
   "outputs": [
    {
     "name": "stdout",
     "output_type": "stream",
     "text": [
      "<class 'int'>\n"
     ]
    }
   ],
   "source": [
    "a = 1\n",
    "print(type(a))"
   ]
  },
  {
   "cell_type": "markdown",
   "id": "7e0d8ee1-7c89-4f7a-b796-bf152e13b795",
   "metadata": {},
   "source": [
    "## Formato di stampa\n",
    "È possibil specificare il formato di stampa di un numero, utilizzando il formato seguente. \n",
    "```\n",
    "print(\"%.[numero di cifre][formato]\" % var) \n",
    "```\n",
    "dove il formato può essere \n",
    "\n",
    "- `d`, intero troncato\n",
    "- `f`, floating\n",
    "- `e`, esponenziale\n",
    "\n",
    "In generale, si può formattare una stringa, inserendo `%` e inserendo, in ordine, in una tupla, le variabili volute."
   ]
  },
  {
   "cell_type": "code",
   "execution_count": 18,
   "id": "f47f9da7-fa96-4675-8182-417191f64410",
   "metadata": {},
   "outputs": [
    {
     "name": "stdout",
     "output_type": "stream",
     "text": [
      "1.046e+01\n",
      "PI: 3.14; PI^2: 9.877551\n"
     ]
    }
   ],
   "source": [
    "print(\"%.3e\" % 10.459)\n",
    "pi = 22/7; pi2 = pi**2\n",
    "print(\"PI: %.2f; PI^2: %f\" % (pi, pi2)) "
   ]
  },
  {
   "cell_type": "markdown",
   "id": "ed7ec5c3-4902-46eb-aa67-603c3d50efa3",
   "metadata": {},
   "source": [
    "## Containers\n",
    "\n",
    "Le **liste** sono il primo tipo di \"contenitore\". Possono essere miste e di vario tipo. Python indicizza da 0, modulo la lunghezza della lista. "
   ]
  },
  {
   "cell_type": "code",
   "execution_count": 19,
   "id": "f4ceda3a-a19b-492c-9f8c-c88b56c34b1d",
   "metadata": {},
   "outputs": [
    {
     "name": "stdout",
     "output_type": "stream",
     "text": [
      "1 3 2\n"
     ]
    }
   ],
   "source": [
    "l = [1, 2, 3]\n",
    "print(l[0], l[-1], l[-2])"
   ]
  },
  {
   "cell_type": "markdown",
   "id": "f1a3da9c-d1b9-4ed2-acbe-c5016f2a0459",
   "metadata": {},
   "source": [
    "Gli **slice** sono una porzione di una lista. Data `L` lista, si definisce `L[start:end:step]` lo slice di L da `start` a `end` a intervalli di `step`. Lo slice non contiene mai l'ultimo elemento."
   ]
  },
  {
   "cell_type": "code",
   "execution_count": 20,
   "id": "9b5f5497-5495-466a-a207-87be35f82a36",
   "metadata": {},
   "outputs": [
    {
     "name": "stdout",
     "output_type": "stream",
     "text": [
      "[0, 3, 6, 9, 12]\n",
      "[0, 2, 4, 6, 8, 10, 12, 14]\n",
      "[95, 90, 85, 80, 75, 70, 65, 60, 55, 50, 45, 40, 35, 30, 25, 20, 15, 10, 5, 0]\n"
     ]
    }
   ],
   "source": [
    "l = list(range(0, 15))\n",
    "print(l[0:15:3])\n",
    "print(l[::2])\n",
    "\n",
    "r = list(range(0, 100, 5))\n",
    "r = r[::-1]\n",
    "print(r)"
   ]
  },
  {
   "cell_type": "markdown",
   "id": "92b9960b-4606-4b72-97b4-336f750d9f88",
   "metadata": {},
   "source": [
    "A causa del fatto che contiene può contenere vari tipi di oggetti, la lista è un oggetto molto inefficiente, e si preferisce utilizzare un altro tipo di struttura. Siccome bisogna trattare solo liste di numeri, si vuole cercare un modo di immagazzinare dati più veloce ed efficiente. "
   ]
  },
  {
   "cell_type": "markdown",
   "id": "e51daf3c-5eeb-4980-b0f0-797719471e7e",
   "metadata": {},
   "source": [
    "Per copiare una lista, si usa il metodo `.copy()` oppure si usa la notazione `b = a[:]` per gli slice. \n",
    "\n",
    "Posso **mutare** il contenuto di `a` scrivendo \n",
    "```py\n",
    "a[:] = [1, 2, 3]\n",
    "```"
   ]
  },
  {
   "cell_type": "markdown",
   "id": "2a064ed5-0fb0-4e8a-8597-6a4484daf9ed",
   "metadata": {},
   "source": [
    "## List Comprehension \n",
    "\n",
    "Con una notazione simile a \n",
    "\n",
    "$$\n",
    "\\{ \\text{expr}(x) \\text{ è vera } \\mid x \\in X \\}\n",
    "$$\n",
    "\n",
    "si può dichiarare le liste in maniera più semplice, filtrando gli elementi di un insieme più grande con una espressione logica. \n",
    "\n",
    "```\n",
    "[ expr(x) for x in Set if expr(x) ]\n",
    "```\n",
    "\n",
    "Per esempio, l'insieme $ \\{ x^2 \\mid x \\in \\{ 0, 1, ... 20 \\} \\text{ t.c. } 2 \\text{ divide } x \\} $ "
   ]
  },
  {
   "cell_type": "code",
   "execution_count": 21,
   "id": "c63c096d-0068-42d6-ac07-78ecefd733af",
   "metadata": {},
   "outputs": [
    {
     "name": "stdout",
     "output_type": "stream",
     "text": [
      "[0, 4, 16, 36, 64, 100, 144, 196, 256, 324]\n"
     ]
    }
   ],
   "source": [
    "a = [i**2 for i in range(0, 20) if i % 2 == 0 ]\n",
    "print(a)"
   ]
  },
  {
   "cell_type": "markdown",
   "id": "8a631740-b8e7-4a65-85e1-6a7cba58eb0d",
   "metadata": {},
   "source": [
    "# Lezione 2\n",
    "\n",
    "Le **stringhe** sono liste di caratteri ordinati, e ereditano tutti i metodi delle liste. Sono collezioni **immutabili** in memoria. Si creano stringhe formattate con il formato analogo al print, e si scrive"
   ]
  },
  {
   "cell_type": "code",
   "execution_count": 22,
   "id": "e578ddad-c9a9-484f-a451-707caa31367f",
   "metadata": {},
   "outputs": [
    {
     "name": "stdout",
     "output_type": "stream",
     "text": [
      "x = 1e+01; y = 1.73\n"
     ]
    }
   ],
   "source": [
    "x = 10; y = 1.73\n",
    "msg = \"x = %.e; y = %.2f\" % (x, y)\n",
    "print(msg)"
   ]
  },
  {
   "cell_type": "markdown",
   "id": "3b964e51-a819-45b1-9139-a05b587aa86c",
   "metadata": {},
   "source": [
    "Le **tuple** sono insiemi di oggetti immutabili. (e.g. $(1, 2, 3)$, $('a', 1, 2)$)"
   ]
  },
  {
   "cell_type": "code",
   "execution_count": 23,
   "id": "2f0842ff-ccf7-4599-ade2-35c91dcb76f9",
   "metadata": {},
   "outputs": [
    {
     "name": "stdout",
     "output_type": "stream",
     "text": [
      "我叫桑文汐\n"
     ]
    }
   ],
   "source": [
    "name = \"桑文汐\"\n",
    "\n",
    "name = (\"我叫\") + (name)\n",
    "print(name)"
   ]
  },
  {
   "cell_type": "markdown",
   "id": "95f2f107-4996-4954-9c5a-517dff8eeeb7",
   "metadata": {},
   "source": [
    "Una tecnica comune è l'**unpacking**, e consiste nell'assegnare contemporaneamente più variabili. È anche possibile fare la *tuple comprehension*."
   ]
  },
  {
   "cell_type": "code",
   "execution_count": 24,
   "id": "ac5ce128-d766-493d-82c4-ccd33bef5272",
   "metadata": {},
   "outputs": [],
   "source": [
    "(x, y) = (3, 4)\n",
    "(x, y) = tuple(range(1, 3))"
   ]
  },
  {
   "cell_type": "markdown",
   "id": "b296ba46-9ce0-4a72-9012-68938c944dc7",
   "metadata": {},
   "source": [
    "Gli **insiemi** (`set`) sono tutti distinti e non ordinati, ed è una classe di oggetti immutabili. Come le tuple e le liste, è possibile fare il *set comprehension* per creare una nuova lista. "
   ]
  },
  {
   "cell_type": "code",
   "execution_count": 25,
   "id": "027958c3-bb9e-4cad-a8e6-513eb0353961",
   "metadata": {},
   "outputs": [
    {
     "name": "stdout",
     "output_type": "stream",
     "text": [
      "Intersezione: {1, 4, 7, 10, 13, 16, 19}\n",
      "Unione:  {1, 2, 3, 4, 5, 6, 7, 8, 9, 10, 11, 12, 13, 14, 15, 16, 17, 18, 19}\n",
      "Differenza:  {2, 3, 5, 6, 8, 9, 11, 12, 14, 15, 17, 18}\n",
      "{0, 1, 2, 3, 4, 5, 6, 7, 8, 9, 10, 11, 12, -2, -6, -5, -4, -3, -1}\n"
     ]
    }
   ],
   "source": [
    "e = set(range(1, 20))\n",
    "i = set(range(1, 20, 3))\n",
    "\n",
    "print(\"Intersezione:\", e & i) #intersezione\n",
    "print(\"Unione: \", e | i) #unione\n",
    "print(\"Differenza: \", e - i) #differenza\n",
    "\n",
    "x = { r - 7 for r in e }\n",
    "print(x)"
   ]
  },
  {
   "cell_type": "markdown",
   "id": "1641ce27-faed-45a3-8591-52ef0f2b75b8",
   "metadata": {},
   "source": [
    "I **dizionari** sono una struttura non ordinata dove ad ogni elemento è associata una chiave (stringa). Per esempio, "
   ]
  },
  {
   "cell_type": "code",
   "execution_count": 26,
   "id": "d9321939-5e1a-4195-aea7-d62f12e7432c",
   "metadata": {},
   "outputs": [],
   "source": [
    "u = { \"a\": 1, \"b\": 2 }"
   ]
  },
  {
   "cell_type": "markdown",
   "id": "14feba22-99e9-4ec9-b0cb-d6401a02b6ab",
   "metadata": {},
   "source": [
    "# Lezione 3\n",
    "\n",
    "## Controlli di flusso\n",
    "\n",
    "Le istruzioni di controllo del flusso aiutano a escludere, ripetere o condizionare l'esecuzione del programma. Si può controllare che due variabili puntino alla stessa locazione di memoria usando `is`. \n",
    "\n",
    "## Funzioni\n",
    "\n",
    "Una funzione è un blocco di codice riutilizzabile che può essere evocato durante l'esecuzione del programma. Si può inserire un commento alla funzione e scrivere la sua documentazione. \n",
    "\n",
    "```python\n",
    "def fun(x):\n",
    "    \"\"\"\n",
    "    Documentazione\n",
    "    \"\"\"\n",
    "    print(x)\n",
    "```\n",
    "\n",
    "Si possono inserire valori di default dei parametri in ingresso assegnandolo nella signature (e.g. `def fun(x = 10):`).\n"
   ]
  },
  {
   "cell_type": "code",
   "execution_count": 27,
   "id": "98dc9988-7930-4e63-b618-cd1cd4705954",
   "metadata": {},
   "outputs": [],
   "source": [
    "def sum(x, y):\n",
    "    \"\"\"\n",
    "    Sum two numbers. \n",
    "\n",
    "    Returns the sum of two numbers. \n",
    "    \n",
    "    INPUT:\n",
    "    - x : int\n",
    "        The first addend\n",
    "    - y : int \n",
    "        The second addend\n",
    "\n",
    "    OUTPUT: \n",
    "        The sum of x and y. \n",
    "    \"\"\"\n",
    "    return x + y"
   ]
  },
  {
   "cell_type": "markdown",
   "id": "ee522d66-c543-4154-9989-e9bc2ab45d15",
   "metadata": {},
   "source": [
    "Si può richiedere nella `REPL` la string doc di una funzione che non si conosce scrivendo `help(f)`. "
   ]
  },
  {
   "cell_type": "code",
   "execution_count": 28,
   "id": "e905af88-1388-47d9-9ebf-a95826f5765e",
   "metadata": {},
   "outputs": [
    {
     "name": "stdout",
     "output_type": "stream",
     "text": [
      "[0, 1, 1, 2, 3, 5, 8, 13, 21, 34]\n"
     ]
    }
   ],
   "source": [
    "def fibo_lista(n = 10):\n",
    "    result = []\n",
    "    a, b = 0, 1\n",
    "    while len(result) < n:\n",
    "        result += [a]\n",
    "        a , b = b, a + b \n",
    "    return result\n",
    "\n",
    "print(fibo_lista(10))"
   ]
  },
  {
   "cell_type": "markdown",
   "id": "064119e4-cdb7-43fc-b261-a1ecd427f552",
   "metadata": {},
   "source": [
    "Con `assert` possiamo controllare l'esecuzione del programma ed evitare che una parte di codice venga eseguita in modo scorretto. Ad esempio, possiamo controllare che un oggetto passato nei parametri sia di un certo tipo o di una certa classe. "
   ]
  },
  {
   "cell_type": "code",
   "execution_count": 29,
   "id": "dd51209b-7916-4934-acdf-19d671639ce0",
   "metadata": {},
   "outputs": [
    {
     "ename": "AssertionError",
     "evalue": "x non è un intero",
     "output_type": "error",
     "traceback": [
      "\u001b[0;31m---------------------------------------------------------------------------\u001b[0m",
      "\u001b[0;31mAssertionError\u001b[0m                            Traceback (most recent call last)",
      "Cell \u001b[0;32mIn[29], line 2\u001b[0m\n\u001b[1;32m      1\u001b[0m x \u001b[38;5;241m=\u001b[39m \u001b[38;5;241m10.0\u001b[39m\n\u001b[0;32m----> 2\u001b[0m \u001b[38;5;28;01massert\u001b[39;00m \u001b[38;5;28misinstance\u001b[39m(x, (\u001b[38;5;28mint\u001b[39m)), \u001b[38;5;124m\"\u001b[39m\u001b[38;5;124mx non è un intero\u001b[39m\u001b[38;5;124m\"\u001b[39m\n\u001b[1;32m      3\u001b[0m \u001b[38;5;28mprint\u001b[39m(x)\n",
      "\u001b[0;31mAssertionError\u001b[0m: x non è un intero"
     ]
    }
   ],
   "source": [
    "x = 10.0\n",
    "assert isinstance(x, (int)), \"x non è un intero\"\n",
    "print(x)"
   ]
  },
  {
   "cell_type": "markdown",
   "id": "c431180f-d864-4afd-823f-ab62f4ea38a2",
   "metadata": {},
   "source": [
    "Quando il tipo è `mutable` (e.g. lista) non è una buona idea mettere il default `= []`. "
   ]
  },
  {
   "cell_type": "code",
   "execution_count": null,
   "id": "a8a26286-0377-4e48-9465-9c42d957c68d",
   "metadata": {},
   "outputs": [
    {
     "name": "stdout",
     "output_type": "stream",
     "text": [
      "[0]\n",
      "[0, 1]\n",
      "[0, 1, 2]\n",
      "[0]\n",
      "[0]\n"
     ]
    }
   ],
   "source": [
    "def add(lst = []):\n",
    "    lst.append(len(lst))\n",
    "    print(lst)\n",
    "\n",
    "def _add(lst = None):\n",
    "    if lst == None:\n",
    "        lst = []\n",
    "    add(lst)\n",
    "\n",
    "add()\n",
    "add()\n",
    "add()\n",
    "\n",
    "_add()\n",
    "_add()"
   ]
  },
  {
   "cell_type": "markdown",
   "id": "12615fe7-dba6-4871-9450-0d4d03eb4dd7",
   "metadata": {},
   "source": [
    "# Lambda Functions\n",
    "\n",
    "Si definisce una lambda scrivendo \n",
    "```python\n",
    "fun = lambda x: expr(x)\n",
    "```\n"
   ]
  },
  {
   "cell_type": "markdown",
   "id": "225cd2d7-682f-4fcf-9547-c61f4a367d96",
   "metadata": {},
   "source": [
    "# Moduli\n",
    "\n",
    "Si usano i  moduli per importare nuove funzionalità scritte da altri autori per semplificare il lavoro. Contengono funzioni, classi, costanti. \n",
    "\n",
    "Con \n",
    "```python\n",
    "import lib as l\n",
    "```\n",
    "importo l'intera libreria. Se voglio importare soltanto alcune componenti, scrivo \n",
    "```python\n",
    "from lib import func as f\n",
    "```"
   ]
  },
  {
   "cell_type": "markdown",
   "id": "9f993766-8e5d-43d9-b1f7-8ade5c581682",
   "metadata": {},
   "source": [
    "# La libreria `numpy`\n",
    "\n",
    "Numpy è una collezione di moduli usati per il calcolo scientifico. L'oggetto principale è l'`array`, una lista dello stesso tipo di oggetti multi-dimensionale. Ad esempio: \n",
    "\n",
    "```python\n",
    "a = np.array([1, 2, 3])\n",
    "```\n",
    "\n",
    "è un vettore 1D che abita in $\\mathbb{R}$.\n",
    "\n",
    "Possiamo definire il tipo di un vettore in questo modo."
   ]
  },
  {
   "cell_type": "code",
   "execution_count": null,
   "id": "ec2685ec-c9c6-4af4-8133-70e95f13ac67",
   "metadata": {},
   "outputs": [
    {
     "name": "stdout",
     "output_type": "stream",
     "text": [
      "[1.+0.j 2.+0.j 3.+0.j]\n",
      "[1 2 3]\n"
     ]
    }
   ],
   "source": [
    "import numpy as np\n",
    "\n",
    "k = np.array([1, 2, 3], dtype = \"complex\")\n",
    "\n",
    "a = np.array([1, 2, 3])\n",
    "a.astype(\"float\")\n",
    "\n",
    "print(k)\n",
    "print(a)"
   ]
  },
  {
   "cell_type": "markdown",
   "id": "5512d412-a8f2-4baf-843d-bc444ce532a4",
   "metadata": {},
   "source": [
    "Si possono confrontare due metodi, con delle utility di Jupyter. Ad esempio, \n",
    "\n",
    "*L'operazione di quadrato viene applicato all'array *element-wise*, nel senso che l'operazione viene applicata ad ogni elemento dell'array (mapping).*"
   ]
  },
  {
   "cell_type": "code",
   "execution_count": null,
   "id": "836d7d86-a597-4b28-956b-ee91907947cc",
   "metadata": {},
   "outputs": [
    {
     "name": "stdout",
     "output_type": "stream",
     "text": [
      "808 μs ± 15.6 μs per loop (mean ± std. dev. of 7 runs, 1,000 loops each)\n",
      "5.3 μs ± 161 ns per loop (mean ± std. dev. of 7 runs, 100,000 loops each)\n"
     ]
    }
   ],
   "source": [
    "%timeit a = [i**2 for i in range(10000)]\n",
    "b = np.arange(10000)\n",
    "%timeit b**2"
   ]
  },
  {
   "cell_type": "markdown",
   "id": "9d483556-ccc5-4337-8bdc-dd4449a5893e",
   "metadata": {},
   "source": [
    "\n",
    "## Array utili \n",
    "\n",
    "Ecco alcuni range di numeri. \n",
    "\n",
    "- `np.arange(start, stop, step)` funziona come il `range` di Python, ma è creato apposta per operare su numeri **interi**.\n",
    "- `np.linspace(start, stop, num = x, endpoint = Bool)` è un range di #`num` numeri **floating** equidistanziati da `start` a `stop`. `endpoint` ha il default in `True`: vuol dire che prendo anche l'estremo. "
   ]
  },
  {
   "cell_type": "code",
   "execution_count": null,
   "id": "bf57e92b-3827-4c51-b295-a929ca35027c",
   "metadata": {},
   "outputs": [
    {
     "name": "stdout",
     "output_type": "stream",
     "text": [
      "[0.         0.01010101 0.02020202 0.03030303 0.04040404 0.05050505\n",
      " 0.06060606 0.07070707 0.08080808 0.09090909 0.1010101  0.11111111\n",
      " 0.12121212 0.13131313 0.14141414 0.15151515 0.16161616 0.17171717\n",
      " 0.18181818 0.19191919 0.2020202  0.21212121 0.22222222 0.23232323\n",
      " 0.24242424 0.25252525 0.26262626 0.27272727 0.28282828 0.29292929\n",
      " 0.3030303  0.31313131 0.32323232 0.33333333 0.34343434 0.35353535\n",
      " 0.36363636 0.37373737 0.38383838 0.39393939 0.4040404  0.41414141\n",
      " 0.42424242 0.43434343 0.44444444 0.45454545 0.46464646 0.47474747\n",
      " 0.48484848 0.49494949 0.50505051 0.51515152 0.52525253 0.53535354\n",
      " 0.54545455 0.55555556 0.56565657 0.57575758 0.58585859 0.5959596\n",
      " 0.60606061 0.61616162 0.62626263 0.63636364 0.64646465 0.65656566\n",
      " 0.66666667 0.67676768 0.68686869 0.6969697  0.70707071 0.71717172\n",
      " 0.72727273 0.73737374 0.74747475 0.75757576 0.76767677 0.77777778\n",
      " 0.78787879 0.7979798  0.80808081 0.81818182 0.82828283 0.83838384\n",
      " 0.84848485 0.85858586 0.86868687 0.87878788 0.88888889 0.8989899\n",
      " 0.90909091 0.91919192 0.92929293 0.93939394 0.94949495 0.95959596\n",
      " 0.96969697 0.97979798 0.98989899 1.        ]\n",
      "[0 1 2 3 4 5 6 7 8 9]\n"
     ]
    }
   ],
   "source": [
    "a = np.linspace(0, 1, 100)\n",
    "\n",
    "xs = np.arange(0, 10)\n",
    "\n",
    "print(a)\n",
    "print(xs)"
   ]
  },
  {
   "cell_type": "markdown",
   "id": "9110078e-d956-4151-9eeb-26a5aac81b67",
   "metadata": {},
   "source": [
    "Un altro tipo di vettore utile è `np.zeros(N)` per un vettore nullo unidimensionale, oppure `np.zeros((N1, N2, ... Nm))` per vettori di zero m-dimensionali. L'analogo con gli $1$ è `np.ones()`. "
   ]
  },
  {
   "cell_type": "markdown",
   "id": "965ec7af-e39b-4298-b03c-a2f132323607",
   "metadata": {},
   "source": [
    "### Array random\n",
    "\n",
    "- Una distribuzione uniforme in $[0, 1]$: `np.random.rand(N)`\n",
    "- Una distriuzione gaussiana/normale: `np.random.randn(N)`\n",
    "- Una distribuzione uniforme discreta di interi da $[A, B]$: `np.random.randint(A, B, ...)\n",
    "\n",
    "È preferibile utilizzare la notazione di stampa esponenziale. \n",
    "\n",
    "### Matrici identità \n",
    "\n",
    "Si usa la funzione \n",
    "```python\n",
    "np.eye(M, N = None, k = 0)\n",
    "```\n",
    "con $M$ ed $N$ le dimensioni della matrice, $k$ lo *shift* dei valori. Qualche esempio:"
   ]
  },
  {
   "cell_type": "code",
   "execution_count": null,
   "id": "3eda7d94-3570-411e-a523-3d8af46ee8f6",
   "metadata": {},
   "outputs": [
    {
     "data": {
      "text/plain": [
       "array([[0., 1., 0., 0.],\n",
       "       [0., 0., 1., 0.],\n",
       "       [0., 0., 0., 1.]])"
      ]
     },
     "execution_count": 38,
     "metadata": {},
     "output_type": "execute_result"
    }
   ],
   "source": [
    "np.eye(3, 4, 1)"
   ]
  },
  {
   "cell_type": "code",
   "execution_count": null,
   "id": "c5bb745c-e544-4d5d-9db0-02b41ffd894b",
   "metadata": {},
   "outputs": [
    {
     "data": {
      "text/plain": [
       "array([[1., 0., 0., 0., 0.],\n",
       "       [0., 1., 0., 0., 0.],\n",
       "       [0., 0., 1., 0., 0.],\n",
       "       [0., 0., 0., 1., 0.],\n",
       "       [0., 0., 0., 0., 1.]])"
      ]
     },
     "execution_count": 45,
     "metadata": {},
     "output_type": "execute_result"
    }
   ],
   "source": [
    "np.eye(5, 5)"
   ]
  },
  {
   "cell_type": "markdown",
   "id": "b8a73da0-0106-47c4-8905-dd254546edd0",
   "metadata": {},
   "source": [
    "### Matrici diagonali\n",
    "\n",
    "```python\n",
    "np.diag(v, k = 0)\n",
    "```\n",
    "\n",
    "genera matrici diagonali con $v$ vettore della prima riga. Con $k$ shifto i valori di $k$ colonne a destra. "
   ]
  },
  {
   "cell_type": "code",
   "execution_count": null,
   "id": "6bed3cb6-cb5f-496b-9e51-2c654be6fc58",
   "metadata": {},
   "outputs": [
    {
     "data": {
      "text/plain": [
       "array([[1, 0, 0],\n",
       "       [0, 2, 0],\n",
       "       [0, 0, 3]])"
      ]
     },
     "execution_count": 51,
     "metadata": {},
     "output_type": "execute_result"
    }
   ],
   "source": [
    "np.diag([1, 2, 3])"
   ]
  },
  {
   "cell_type": "code",
   "execution_count": null,
   "id": "00b93bdf-d48a-4988-9d0d-d86d825baf24",
   "metadata": {},
   "outputs": [
    {
     "data": {
      "text/plain": [
       "array([[0, 0, 0, 1, 0, 0],\n",
       "       [0, 0, 0, 0, 2, 0],\n",
       "       [0, 0, 0, 0, 0, 3],\n",
       "       [0, 0, 0, 0, 0, 0],\n",
       "       [0, 0, 0, 0, 0, 0],\n",
       "       [0, 0, 0, 0, 0, 0]])"
      ]
     },
     "execution_count": 53,
     "metadata": {},
     "output_type": "execute_result"
    }
   ],
   "source": [
    "np.diag([1, 2, 3], 3)"
   ]
  },
  {
   "cell_type": "markdown",
   "id": "2ade6da7-a8e2-4567-aef9-23b5deef66dc",
   "metadata": {},
   "source": [
    "## Slicing con gli array di Numpy\n",
    "\n",
    "Lo slicing funziona in maniera uguale. Ci sono alcune cose diverse però. Ad esempio, l'assegnazione può essere fatta a più elementi contemporaneamente. \n"
   ]
  },
  {
   "cell_type": "code",
   "execution_count": null,
   "id": "9d8c7833-7529-4906-b301-b29139b3272d",
   "metadata": {},
   "outputs": [
    {
     "name": "stdout",
     "output_type": "stream",
     "text": [
      "[0 1 2 3 4 5 0 0 0 0]\n"
     ]
    }
   ],
   "source": [
    "a = np.arange(0, 10)\n",
    "a[6:] = 0\n",
    "\n",
    "print(a)"
   ]
  },
  {
   "cell_type": "markdown",
   "id": "f77b8c31-1f70-419b-ad31-645dd9917e39",
   "metadata": {},
   "source": [
    "Con Numpy gli slice sono delle *view*, cioè fattivamente dei puntatori alla lista in memoria. Cambiare gli elementi di una slice cambia la lista in memoria. Si può accedere agli elementi tramite **condizioni** e **array di indici**. Ad esempio, "
   ]
  },
  {
   "cell_type": "code",
   "execution_count": null,
   "id": "791a83d0-5b03-44d7-bc13-64f90afbfbcd",
   "metadata": {},
   "outputs": [
    {
     "name": "stdout",
     "output_type": "stream",
     "text": [
      "[1 2 3]\n",
      "[11 12 13 14 15 16 17 18 19]\n"
     ]
    }
   ],
   "source": [
    "a = np.arange(20)\n",
    "print(a[[1, 2, 3]])\n",
    "print(a[a > 10])"
   ]
  },
  {
   "cell_type": "markdown",
   "id": "725d9a3d-5dd7-45ee-8270-40a622df78d6",
   "metadata": {},
   "source": [
    "## Slicing 2D\n",
    "\n",
    "Si accede agli elementi di un tensore n-dimensionale con una sintassi simile alla seguente. \n",
    "\n",
    "```python\n",
    "tens[x, y, z ...]\n",
    "```\n",
    "\n",
    "Quando si vuole accedere al vettore che si ottiene fissata una riga `k`, si può scrivere\n",
    "\n",
    "```python\n",
    "tens[k, :] = tens[k]\n",
    "```\n",
    "\n",
    "Il vettore che viene ritornato da questo tipo di slicing è un **vettore 1-dimensionale**, e non un vettore riga o colonna! \n",
    "\n"
   ]
  },
  {
   "cell_type": "code",
   "execution_count": null,
   "id": "6ff873fe-2243-4b1d-ad5f-9a6353f38f16",
   "metadata": {},
   "outputs": [
    {
     "name": "stdout",
     "output_type": "stream",
     "text": [
      "[[3 0 0 4 3]\n",
      " [1 4 2 1 4]\n",
      " [3 4 2 1 0]\n",
      " [1 3 1 3 2]\n",
      " [0 1 4 0 4]]\n",
      "[[ 3  0  0  4  3]\n",
      " [-1  4 -1  1 -1]\n",
      " [ 3  4  2  1  0]\n",
      " [-1  3 -1  3 -1]\n",
      " [ 0  1  4  0  4]]\n"
     ]
    }
   ],
   "source": [
    "A = np.random.randint(0, 5, (5, 5))\n",
    "print(A)\n",
    "\n",
    "B = A[1::2, ::2]\n",
    "B[:, :] = -1\n",
    "\n",
    "print(A)"
   ]
  },
  {
   "cell_type": "code",
   "execution_count": null,
   "id": "a25d7ed0-fe9b-43b2-9180-bad95502894b",
   "metadata": {},
   "outputs": [
    {
     "name": "stdout",
     "output_type": "stream",
     "text": [
      "[[2 2]\n",
      " [1 1]]\n",
      "[[2 2]\n",
      " [1 1]]\n"
     ]
    }
   ],
   "source": [
    "A = np.array([ [2, 2], [1, 1] ])\n",
    "print(A)\n",
    "\n",
    "A[ A[1, :] > 1, : ] = 100\n",
    "print(A)"
   ]
  },
  {
   "cell_type": "markdown",
   "id": "791a46f2-45d8-469d-8e50-887d1d78b65e",
   "metadata": {},
   "source": [
    "### Ravel\n",
    "\n",
    "Il metodo **ravel** appiattisce la lista per righe o per colonee. Può essere specificato con l'attributo `order` a `C` (colonne) o `F` (righe). Il default è per righe. "
   ]
  },
  {
   "cell_type": "code",
   "execution_count": null,
   "id": "833edddc-586d-4ed7-89a7-0969b0ec2132",
   "metadata": {},
   "outputs": [
    {
     "name": "stdout",
     "output_type": "stream",
     "text": [
      "[[4 3 7]\n",
      " [1 5 2]\n",
      " [0 2 1]]\n",
      "[4 3 7 1 5 2 0 2 1]\n"
     ]
    }
   ],
   "source": [
    "A = np.random.randint(0, 10, (3, 3))\n",
    "print(A)\n",
    "print(np.ravel(A))"
   ]
  },
  {
   "cell_type": "markdown",
   "id": "92fab785-02ba-4032-8eb1-ebf7fc9ccff3",
   "metadata": {},
   "source": [
    "### Reshape e resize\n",
    "Il metodo **reshape** appiattisce per righe e riarrangia gli elementi nella nuova forma. **resize** funziona in maniera identica, con l'eccezione che i numeri in eccesso vengono ripescati in ordine dagli elementi della matrice originale. "
   ]
  },
  {
   "cell_type": "code",
   "execution_count": null,
   "id": "d7757ebc-4e8c-4ec4-8c39-e86c57661b25",
   "metadata": {},
   "outputs": [
    {
     "name": "stdout",
     "output_type": "stream",
     "text": [
      "[[2 5 6]\n",
      " [6 9 2]\n",
      " [9 4 7]]\n",
      "[[2]\n",
      " [5]\n",
      " [6]\n",
      " [6]\n",
      " [9]\n",
      " [2]\n",
      " [9]\n",
      " [4]\n",
      " [7]]\n",
      "[[2 5]\n",
      " [6 6]\n",
      " [9 2]\n",
      " [9 4]\n",
      " [7 2]\n",
      " [5 6]\n",
      " [6 9]\n",
      " [2 9]\n",
      " [4 7]\n",
      " [2 5]]\n"
     ]
    }
   ],
   "source": [
    "A = np.random.randint(0, 10, (3, 3))\n",
    "print(A)\n",
    "\n",
    "print(np.reshape(A, (9, 1)))\n",
    "\n",
    "print(np.resize(A, (10, 2)))"
   ]
  },
  {
   "cell_type": "markdown",
   "id": "97636816-07c4-4bd7-b78d-7723007b741b",
   "metadata": {},
   "source": [
    "### Unire più array insieme\n",
    "\n",
    "Ci sono due modi. \n",
    "\n",
    "- `concatenate((a1, a2), axis = 0)` aggiunge uno nella stessa direzione,\n",
    "- `stack` li aggiunge in una nuova direzione.\n"
   ]
  },
  {
   "cell_type": "code",
   "execution_count": null,
   "id": "fe2506b2-4b78-45c6-9071-2aeb435f00c7",
   "metadata": {},
   "outputs": [
    {
     "name": "stdout",
     "output_type": "stream",
     "text": [
      "[[2 2 0]\n",
      " [4 0 2]\n",
      " [1 4 1]]\n",
      "[[2 4 0]\n",
      " [1 4 4]\n",
      " [0 3 1]]\n",
      "[[2 2 0 2 4 0]\n",
      " [4 0 2 1 4 4]\n",
      " [1 4 1 0 3 1]]\n",
      "[[[2 2 0]\n",
      "  [4 0 2]\n",
      "  [1 4 1]]\n",
      "\n",
      " [[2 4 0]\n",
      "  [1 4 4]\n",
      "  [0 3 1]]]\n"
     ]
    }
   ],
   "source": [
    "A = np.random.randint(0, 5, (3, 3))\n",
    "B = np.random.randint(0, 5, (3, 3))\n",
    "\n",
    "print(A)\n",
    "print(B)\n",
    "\n",
    "print(np.concatenate((A, B), axis = 1))\n",
    "print(np.stack((A, B)))"
   ]
  },
  {
   "cell_type": "markdown",
   "id": "1f1befb4-a83b-4ff6-82db-878d043fd551",
   "metadata": {},
   "source": [
    "### Inserire un elemento "
   ]
  },
  {
   "cell_type": "code",
   "execution_count": null,
   "id": "8138637c-1401-4a30-af7e-cbda523d0e53",
   "metadata": {},
   "outputs": [
    {
     "name": "stdout",
     "output_type": "stream",
     "text": [
      "[[2 4 4]\n",
      " [3 2 1]\n",
      " [3 4 4]]\n"
     ]
    },
    {
     "data": {
      "text/plain": [
       "array([[100,   2,   4, 100,   4],\n",
       "       [100,   3,   2, 100,   1],\n",
       "       [100,   3,   4, 100,   4]])"
      ]
     },
     "execution_count": 175,
     "metadata": {},
     "output_type": "execute_result"
    }
   ],
   "source": [
    "A = np.random.randint(0, 5, (3, 3))\n",
    "print(A)\n",
    "\n",
    "np.insert(A, 0, -1, axis=1)\n",
    "\n",
    "np.insert(A, slice(0, 3, 2), 100, axis = 1) # Viene fatto tutto insieme!! "
   ]
  },
  {
   "cell_type": "markdown",
   "id": "b69b994e-849c-4f3d-8d9b-58e2a14ed609",
   "metadata": {},
   "source": [
    "### Split"
   ]
  },
  {
   "cell_type": "code",
   "execution_count": null,
   "id": "31e18912-62c8-4ca1-ab8a-545394e11c21",
   "metadata": {},
   "outputs": [
    {
     "name": "stdout",
     "output_type": "stream",
     "text": [
      "[[1 0 4]\n",
      " [1 0 3]\n",
      " [1 1 2]]\n"
     ]
    },
    {
     "data": {
      "text/plain": [
       "[array([[1, 0, 4]]), array([[1, 0, 3]]), array([[1, 1, 2]])]"
      ]
     },
     "execution_count": 194,
     "metadata": {},
     "output_type": "execute_result"
    }
   ],
   "source": [
    "A = np.random.randint(0, 5, (3, 3))\n",
    "print(A)\n",
    "\n",
    "np.split(A, 3)"
   ]
  },
  {
   "cell_type": "code",
   "execution_count": null,
   "id": "00ce775d-75dd-463f-a659-fe6886bd9ff3",
   "metadata": {},
   "outputs": [
    {
     "data": {
      "text/plain": [
       "[array([[4, 1, 2],\n",
       "        [3, 2, 4],\n",
       "        [0, 0, 3]])]"
      ]
     },
     "execution_count": 188,
     "metadata": {},
     "output_type": "execute_result"
    }
   ],
   "source": [
    "np.split(A, 1, axis = 0)"
   ]
  },
  {
   "cell_type": "markdown",
   "id": "a9afcc7c-ba1c-4b42-9f61-00be31196925",
   "metadata": {},
   "source": [
    "\n",
    "### Cancellare righe o colonne"
   ]
  },
  {
   "cell_type": "code",
   "execution_count": null,
   "id": "ad660ca5-bed6-4477-883c-69ef4c9dcd88",
   "metadata": {},
   "outputs": [
    {
     "name": "stdout",
     "output_type": "stream",
     "text": [
      "[[0 1 1]\n",
      " [3 2 4]\n",
      " [2 3 0]]\n"
     ]
    },
    {
     "data": {
      "text/plain": [
       "array([0, 1, 1, 2, 4, 2, 3, 0])"
      ]
     },
     "execution_count": 200,
     "metadata": {},
     "output_type": "execute_result"
    }
   ],
   "source": [
    "A = np.random.randint(0, 5, (3, 3))\n",
    "print(A)\n",
    "np.delete(A, 3)"
   ]
  },
  {
   "cell_type": "markdown",
   "id": "d94075e0-6339-45f8-beb3-dce9a6aeeb21",
   "metadata": {},
   "source": [
    "### Tile e Repeat"
   ]
  },
  {
   "cell_type": "code",
   "execution_count": null,
   "id": "7dd8d004-7c9c-4a68-9b32-f65fad7a7ad2",
   "metadata": {},
   "outputs": [
    {
     "name": "stdout",
     "output_type": "stream",
     "text": [
      "[[0 1 3]\n",
      " [4 1 3]\n",
      " [3 0 0]]\n"
     ]
    },
    {
     "data": {
      "text/plain": [
       "array([[0, 1, 3, 0, 1, 3],\n",
       "       [4, 1, 3, 4, 1, 3],\n",
       "       [3, 0, 0, 3, 0, 0],\n",
       "       [0, 1, 3, 0, 1, 3],\n",
       "       [4, 1, 3, 4, 1, 3],\n",
       "       [3, 0, 0, 3, 0, 0]])"
      ]
     },
     "execution_count": 208,
     "metadata": {},
     "output_type": "execute_result"
    }
   ],
   "source": [
    "A = np.random.randint(0, 5, (3, 3))\n",
    "print(A)\n",
    "np.tile(A, (2, 2))"
   ]
  },
  {
   "cell_type": "code",
   "execution_count": null,
   "id": "d0866307-eec5-49a4-bb59-efe615f330f3",
   "metadata": {},
   "outputs": [
    {
     "name": "stdout",
     "output_type": "stream",
     "text": [
      "[[1]\n",
      " [0]\n",
      " [4]\n",
      " [4]]\n"
     ]
    },
    {
     "data": {
      "text/plain": [
       "array([1, 1, 1, 1, 1, 1, 1, 0, 0, 0, 0, 0, 0, 0, 4, 4, 4, 4, 4, 4, 4, 4,\n",
       "       4, 4, 4, 4, 4, 4])"
      ]
     },
     "execution_count": 213,
     "metadata": {},
     "output_type": "execute_result"
    }
   ],
   "source": [
    "A = np.random.randint(0, 5, (4, 1))\n",
    "print(A)\n",
    "\n",
    "np.repeat(A, 7)"
   ]
  },
  {
   "cell_type": "code",
   "execution_count": null,
   "id": "00903bd3-553e-42d5-be89-3cca862fa6fd",
   "metadata": {},
   "outputs": [
    {
     "name": "stdout",
     "output_type": "stream",
     "text": [
      "[[0 1 1 2]\n",
      " [2 3 2 0]\n",
      " [4 0 1 0]\n",
      " [3 3 2 4]]\n"
     ]
    },
    {
     "data": {
      "text/plain": [
       "array([0, 0, 0, 0, 0, 0, 0, 1, 1, 1, 1, 1, 1, 1, 1, 1, 1, 1, 1, 1, 1, 2,\n",
       "       2, 2, 2, 2, 2, 2, 2, 2, 2, 2, 2, 2, 2, 3, 3, 3, 3, 3, 3, 3, 2, 2,\n",
       "       2, 2, 2, 2, 2, 0, 0, 0, 0, 0, 0, 0, 4, 4, 4, 4, 4, 4, 4, 0, 0, 0,\n",
       "       0, 0, 0, 0, 1, 1, 1, 1, 1, 1, 1, 0, 0, 0, 0, 0, 0, 0, 3, 3, 3, 3,\n",
       "       3, 3, 3, 3, 3, 3, 3, 3, 3, 3, 2, 2, 2, 2, 2, 2, 2, 4, 4, 4, 4, 4,\n",
       "       4, 4])"
      ]
     },
     "execution_count": 215,
     "metadata": {},
     "output_type": "execute_result"
    }
   ],
   "source": [
    "A = np.random.randint(0, 5, (4, 4))\n",
    "print(A)\n",
    "\n",
    "np.repeat(A, 7)"
   ]
  },
  {
   "cell_type": "markdown",
   "id": "7e6cc704-3959-4179-9008-3e8d4e180c72",
   "metadata": {},
   "source": [
    "# Operazioni matematiche con Numpy\n",
    "\n",
    "- element-wise\n",
    "- si possono effettuare solo su array di dimensioni uguali\n",
    "- quando le dimensioni non sono uguali ma sono \"compatibili\", si usa il *broadcast*"
   ]
  },
  {
   "cell_type": "markdown",
   "id": "25073492-cab0-4ebc-8d26-ec1305199a05",
   "metadata": {},
   "source": [
    "## Broadcasting\n",
    "\n",
    "Si possono eseguire operazioni tra due matrici, ripetendo il valore element-wise. In particolare,\n",
    "i vettori riga devono essere lunghi quando il numero di colonne, e viceversa. "
   ]
  },
  {
   "cell_type": "code",
   "execution_count": null,
   "id": "d796b983-a602-4d59-839e-a9058222bac4",
   "metadata": {},
   "outputs": [
    {
     "name": "stdout",
     "output_type": "stream",
     "text": [
      "[[0 1]\n",
      " [2 3]\n",
      " [4 5]\n",
      " [6 7]\n",
      " [8 9]]\n",
      "[1 2]\n",
      "[[ 0  2]\n",
      " [ 2  6]\n",
      " [ 4 10]\n",
      " [ 6 14]\n",
      " [ 8 18]]\n"
     ]
    }
   ],
   "source": [
    "X = np.arange(0, 10).reshape(5, 2)\n",
    "\n",
    "Y = np.arange(2) + 1\n",
    "\n",
    "print(X)\n",
    "print(Y)\n",
    "\n",
    "print(X*Y)"
   ]
  },
  {
   "cell_type": "markdown",
   "id": "63e56093-7609-4588-b6b4-18a729fc4a7f",
   "metadata": {},
   "source": [
    "## Confronti \n",
    "\n",
    "Si possono confrontare vettori e matrici tra due tipi compatibili, e la comparazione ritorna un vettore logica. \n",
    "`.all()` ritorna `True` quando tutti gli elementi del vettore sono `True`, mentre `.any()` lo fa quando ce n'è almeno uno `True`. \n",
    "\n",
    "Per confrontare più numeri float, si usa `np.allclose(A, B, rtol=TOL)` con `TOL` il valore della tolleranza sufficientemente piccola. "
   ]
  },
  {
   "cell_type": "code",
   "execution_count": null,
   "id": "409429d9-7959-4b1f-be78-6fe2608e9791",
   "metadata": {},
   "outputs": [
    {
     "data": {
      "text/plain": [
       "True"
      ]
     },
     "execution_count": 237,
     "metadata": {},
     "output_type": "execute_result"
    }
   ],
   "source": [
    "A = np.arange(6).reshape((2, 3))\n",
    "B = np.arange(6, 12).reshape((2, 3)) - 6\n",
    "\n",
    "(A == B).all()"
   ]
  },
  {
   "cell_type": "code",
   "execution_count": null,
   "id": "22c33308-0907-4aa9-8264-d18224056321",
   "metadata": {},
   "outputs": [
    {
     "name": "stdout",
     "output_type": "stream",
     "text": [
      "True\n",
      "False\n"
     ]
    }
   ],
   "source": [
    "A = np.random.rand(1000)\n",
    "B = A * 2.5\n",
    "B = B / 2.5\n",
    "\n",
    "print(np.allclose(A, B, rtol=1e-13))\n",
    "print((A == B).all())"
   ]
  },
  {
   "cell_type": "markdown",
   "id": "455163b1-880f-483c-808e-f8ceaf07c366",
   "metadata": {},
   "source": [
    "## Operazioni non element-wise\n",
    "\n",
    "Sulle operazioni non element-wise, si può fissare o meno un asse dove eseguire l'operazione. Quando non si specifica, l'operazione viene fatta per tutti gli elementi del tensore; quando invece si specifica, l'operazione viene svolta per ogni vettore della pagina specificata. "
   ]
  },
  {
   "cell_type": "code",
   "execution_count": null,
   "id": "5aac187c-c005-4009-b3f8-bcafffbe3066",
   "metadata": {},
   "outputs": [
    {
     "name": "stdout",
     "output_type": "stream",
     "text": [
      "[[57  8 80 42 70 41  7 45 81 15]\n",
      " [65  2 29 34 24 30 49 57 28  0]\n",
      " [66 44  3 94 79 59 49 22 33 26]\n",
      " [12 68 83 84 61 83 86 93 25 61]\n",
      " [61 45 27 74 95 95  9 13 30 81]\n",
      " [22 92 43 43  5  9 47 33 20 65]\n",
      " [58 88 93 32 91 16 44 97  7 35]\n",
      " [63 94 52 13 47  6 89 75 38 24]\n",
      " [34 96 84 81 39 74 58 87  0 12]\n",
      " [31 12 24 41 82 20  2 21 36 20]]\n"
     ]
    },
    {
     "data": {
      "text/plain": [
       "array([  1682956336320000,                  0,   3530456558620992,\n",
       "       351323101488643200,  14072691868852500,    339558872796000,\n",
       "        23125730631843840,   6872429852870400,                  0,\n",
       "           18153638092800])"
      ]
     },
     "execution_count": 297,
     "metadata": {},
     "output_type": "execute_result"
    }
   ],
   "source": [
    "A = np.random.randint(0, 100, (100, 1)).reshape(10, 10)\n",
    "print(A)\n",
    "\n",
    "np.product(A)\n",
    "np.product(A, axis = 0)\n",
    "np.product(A, axis = 1)"
   ]
  },
  {
   "cell_type": "code",
   "execution_count": null,
   "id": "3b71926f-d881-4465-9cb6-2b858701539e",
   "metadata": {},
   "outputs": [
    {
     "name": "stdout",
     "output_type": "stream",
     "text": [
      "[[98 51 13 49 26 42 50 94 67 84]\n",
      " [11 28 33 26 17 85 44 71 48 98]\n",
      " [34 51 51 69 35 30 84 10 56 21]\n",
      " [62 44 68 35 60 76 97 17 88 54]\n",
      " [78 54 25 86 74 33 85 22 11 61]\n",
      " [14 75  2 27  0 59 76  2 82 48]\n",
      " [52 68 50 41 97 96 85 82 50 99]\n",
      " [50 25 15 24 90 45 39 97 83 38]\n",
      " [13 88 47 70  5 21 83 34 82 15]\n",
      " [57 65 30 64 50  9  7 33 25 80]]\n"
     ]
    },
    {
     "data": {
      "text/plain": [
       "array([[13, 26, 42, 49, 50, 51, 67, 84, 94, 98],\n",
       "       [11, 17, 26, 28, 33, 44, 48, 71, 85, 98],\n",
       "       [10, 21, 30, 34, 35, 51, 51, 56, 69, 84],\n",
       "       [17, 35, 44, 54, 60, 62, 68, 76, 88, 97],\n",
       "       [11, 22, 25, 33, 54, 61, 74, 78, 85, 86],\n",
       "       [ 0,  2,  2, 14, 27, 48, 59, 75, 76, 82],\n",
       "       [41, 50, 50, 52, 68, 82, 85, 96, 97, 99],\n",
       "       [15, 24, 25, 38, 39, 45, 50, 83, 90, 97],\n",
       "       [ 5, 13, 15, 21, 34, 47, 70, 82, 83, 88],\n",
       "       [ 7,  9, 25, 30, 33, 50, 57, 64, 65, 80]])"
      ]
     },
     "execution_count": 299,
     "metadata": {},
     "output_type": "execute_result"
    }
   ],
   "source": [
    "A = np.random.randint(0, 100, (100, 1)).reshape(10, 10)\n",
    "print(A)\n",
    "\n",
    "np.sort(A)"
   ]
  },
  {
   "cell_type": "markdown",
   "id": "124f8258-7600-4e7c-86d5-3ca8027bc710",
   "metadata": {},
   "source": [
    "## Operazioni con matrici \n",
    "\n",
    "- `A@b` prodotto matrice vettore\n",
    "- `A.T` trasposta\n",
    "- `np.trace(A, shift)` traccia\n",
    "- `np.triu(A, shift)` oppure `np.tril(A, shift)`"
   ]
  },
  {
   "cell_type": "code",
   "execution_count": null,
   "id": "86f21fbf-174d-4820-9dfe-d03c76e03c1c",
   "metadata": {},
   "outputs": [],
   "source": []
  },
  {
   "cell_type": "markdown",
   "id": "7ce7aacd",
   "metadata": {},
   "source": [
    "# Oggi lezione bellissima (è nero)\n",
    "\n",
    "Utilizzeremo Myplotlib, ed è un pacchetto che deve essere importato. "
   ]
  },
  {
   "cell_type": "code",
   "execution_count": 31,
   "id": "848a9be9",
   "metadata": {},
   "outputs": [],
   "source": [
    "import matplotlib.pyplot as plt\n",
    "import numpy as np\n",
    "%matplotlib inline"
   ]
  },
  {
   "cell_type": "markdown",
   "id": "2a648225",
   "metadata": {},
   "source": [
    "La seconda riga è importante, ma serve solo per Jupyter. "
   ]
  },
  {
   "cell_type": "code",
   "execution_count": 33,
   "id": "afa6b3cb",
   "metadata": {},
   "outputs": [
    {
     "data": {
      "text/plain": [
       "[<matplotlib.lines.Line2D at 0x798e3c154b00>]"
      ]
     },
     "execution_count": 33,
     "metadata": {},
     "output_type": "execute_result"
    },
    {
     "data": {
      "image/png": "[encoded data removed]",
      "text/plain": [
       "<Figure size 640x480 with 1 Axes>"
      ]
     },
     "metadata": {},
     "output_type": "display_data"
    }
   ],
   "source": [
    "x = np.linspace(0, 2*pi, 100)\n",
    "cosx, sinx = np.cos(x), np.sin(x)\n",
    "\n",
    "plt.plot(x, cosx)\n",
    "plt.plot(x, sinx)"
   ]
  }
 ],
 "metadata": {
  "kernelspec": {
   "display_name": "base",
   "language": "python",
   "name": "python3"
  },
  "language_info": {
   "codemirror_mode": {
    "name": "ipython",
    "version": 3
   },
   "file_extension": ".py",
   "mimetype": "text/x-python",
   "name": "python",
   "nbconvert_exporter": "python",
   "pygments_lexer": "ipython3",
   "version": "3.12.4"
  }
 },
 "nbformat": 4,
 "nbformat_minor": 5
}
