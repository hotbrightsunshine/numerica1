{
 "cells": [
  {
   "cell_type": "markdown",
   "id": "f1b8f0df",
   "metadata": {},
   "source": [
    "# Esercizio 1\n",
    "Riprodurre le seguenti matrici con NumPy. Per ognuna di esse scrivere una funzione che generi la matrice della dimensione in input. Non si devono usare cicli for.\n",
    "* scacchiera, ad esempio\n",
    "$$\\begin{bmatrix}\n",
    "1& 0& 1& 0& 1& 0\\\\\n",
    "0& 1& 0& 1& 0& 1\\\\\n",
    "1& 0& 1& 0& 1& 0\\\\\n",
    "0& 1& 0& 1& 0& 1\\\\\n",
    "1& 0& 1& 0& 1& 0\n",
    "\\end{bmatrix}$$\n",
    "* di interi $1, \\ldots, MN$, ad esempio\n",
    "$$\\begin{bmatrix}\n",
    "1& 2& 3& 4& 5\\\\\n",
    "6& 7& 8& 9& 10\\\\\n",
    "11& 12& 13& 14& 15\\\\\n",
    "16& 17& 18& 19& 20\\\\\n",
    "21& 22& 23& 24& 25\n",
    "\\end{bmatrix}$$\n",
    "* quadrata con i numeri $1, \\ldots, N$ sia sulla diagonale che sull'antidiagonale, ad esempio\n",
    "\n",
    "$$\\begin{bmatrix}\n",
    "1& 0& 0& 0& 1\\\\\n",
    "0& 2& 0& 2& 0\\\\\n",
    "0& 0& 3& 0& 0\\\\\n",
    "0& 4& 0& 4& 0\\\\\n",
    "5& 0& 0& 0& 5\n",
    "\\end{bmatrix}$$\n",
    "# Esercizio 2\n",
    "Scrivere le seguenti funzioni (vietato l'uso dei for):\n",
    "1. funzione che restituisce l'elemento di un array 1D più vicino ad un dato scalare\n",
    "2. funzione che inserisce 3 zeri consecutivi tra gli elementi di un array 1D\n",
    "3. funzione che scambia due righe in un array 2D\n",
    "\n",
    "# Esercizio 3\n",
    "Scrivere 2 funzioni, una usando le liste e una usando numpy, che prende in input una lista (array 1D rispettivamente) di lunghezza $N$ e calcola la lista (array) contenente i punti medi, cioè \n",
    "$$ y_i =  \\frac{x_i + x_{i+1}}{2} \\qquad \\forall\\, i < N$$\n",
    "Nella funzione che usa numpy è vietato l'uso dei for.\n",
    "Confrontare le performance con `%timeit`. Qual'è meglio? Di quanto?\n",
    "# Esercizio 4\n",
    "Scrivere una funzione, senza l'uso dei cicli for, che dati dei punti materiali $\\pmb{x}^i = (x_1^i, x_2^i, x_3^i) \\in \\mathbb{R}^3$ di massa $m^i$, calcoli il centro di massa, cioè,\n",
    "$$\n",
    "\\bar{\\pmb{x}} := \\frac{1}{M}\\sum_{i=0}^N m^i\\pmb{x}^i \\qquad\\text{con } M := \\sum_{i=0}^N m^i.\n",
    "$$"
   ]
  }
 ],
 "metadata": {
  "kernelspec": {
   "display_name": "Python 3 (ipykernel)",
   "language": "python",
   "name": "python3"
  },
  "language_info": {
   "codemirror_mode": {
    "name": "ipython",
    "version": 3
   },
   "file_extension": ".py",
   "mimetype": "text/x-python",
   "name": "python",
   "nbconvert_exporter": "python",
   "pygments_lexer": "ipython3",
   "version": "3.12.4"
  }
 },
 "nbformat": 4,
 "nbformat_minor": 5
}
